{
 "cells": [
  {
   "cell_type": "code",
   "execution_count": 1,
   "metadata": {
    "collapsed": true
   },
   "outputs": [],
   "source": [
    "import pandas as pd\n",
    "from Scripts.util import (\n",
    "    replace_slash,\n",
    "    clean_analysis_sheet\n",
    ")"
   ]
  },
  {
   "cell_type": "code",
   "execution_count": 2,
   "outputs": [],
   "source": [
    "df = pd.read_excel('../inputs/YEM2203_HH_SBA_-_all_versions_-_False_-_2023-03-23-05-31-45.xlsx')\n",
    "tool = pd.read_excel('../inputs/YEM2203_HH_survey_tool_SBA_01252023.xlsx')\n",
    "df.columns = [replace_slash(col) for col in df.columns]\n"
   ],
   "metadata": {
    "collapsed": false
   }
  },
  {
   "cell_type": "code",
   "execution_count": 4,
   "outputs": [
    {
     "name": "stdout",
     "output_type": "stream",
     "text": [
      "1                                   Rainwater_collection\n",
      "194    Surface_water_river_dam_lake_pond_stream_canal...\n",
      "195    Surface_water_river_dam_lake_pond_stream_canal...\n",
      "196    Surface_water_river_dam_lake_pond_stream_canal...\n",
      "198    Surface_water_river_dam_lake_pond_stream_canal...\n",
      "                             ...                        \n",
      "355                                 Rainwater_collection\n",
      "356                                 Rainwater_collection\n",
      "357                                 Rainwater_collection\n",
      "358                                 Rainwater_collection\n",
      "359                                 Rainwater_collection\n",
      "Name: C1_main_water_source, Length: 164, dtype: object\n",
      "0                   Tanker_truck\n",
      "2                   Tanker_truck\n",
      "3                   Tanker_truck\n",
      "4      Cart_with_small_tank_drum\n",
      "5      Cart_with_small_tank_drum\n",
      "                 ...            \n",
      "361               Water_trucking\n",
      "362               Water_trucking\n",
      "363               Water_trucking\n",
      "364               Water_trucking\n",
      "365               Water_trucking\n",
      "Name: C1_main_water_source, Length: 202, dtype: object\n"
     ]
    }
   ],
   "source": [
    "grouped_ = df.groupby('A5_characteristic')['C1_main_water_source']\n",
    "grouped_\n",
    "for g,n in grouped_:\n",
    "    print(n)\n"
   ],
   "metadata": {
    "collapsed": false
   }
  },
  {
   "cell_type": "code",
   "execution_count": null,
   "outputs": [],
   "source": [],
   "metadata": {
    "collapsed": false
   }
  },
  {
   "cell_type": "code",
   "execution_count": null,
   "outputs": [],
   "source": [
    " total = len(group['C1_main_water_source'])\n",
    "total"
   ],
   "metadata": {
    "collapsed": false
   }
  },
  {
   "cell_type": "code",
   "execution_count": null,
   "outputs": [],
   "source": [],
   "metadata": {
    "collapsed": false
   }
  }
 ],
 "metadata": {
  "kernelspec": {
   "display_name": "Python 3",
   "language": "python",
   "name": "python3"
  },
  "language_info": {
   "codemirror_mode": {
    "name": "ipython",
    "version": 2
   },
   "file_extension": ".py",
   "mimetype": "text/x-python",
   "name": "python",
   "nbconvert_exporter": "python",
   "pygments_lexer": "ipython2",
   "version": "2.7.6"
  }
 },
 "nbformat": 4,
 "nbformat_minor": 0
}
