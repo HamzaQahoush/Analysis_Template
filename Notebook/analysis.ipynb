{
 "cells": [
  {
   "cell_type": "code",
   "execution_count": 3,
   "metadata": {
    "collapsed": true
   },
   "outputs": [],
   "source": [
    "import pandas as pd"
   ]
  },
  {
   "cell_type": "code",
   "execution_count": 4,
   "outputs": [],
   "source": [
    "from Scripts.util import (\n",
    "    replace_slash,\n",
    "    clean_analysis_sheet\n",
    ")"
   ],
   "metadata": {
    "collapsed": false
   }
  },
  {
   "cell_type": "code",
   "execution_count": 5,
   "outputs": [],
   "source": [
    "df = pd.read_excel('../inputs/YEM2203_HH_SBA_-_all_versions_-_False_-_2023-03-23-05-31-45.xlsx')\n",
    "tool = pd.read_excel('../inputs/YEM2203_HH_survey_tool_SBA_01252023.xlsx')\n",
    "df.columns = [replace_slash(col) for col in df.columns]\n"
   ],
   "metadata": {
    "collapsed": false
   }
  },
  {
   "cell_type": "code",
   "execution_count": 6,
   "outputs": [
    {
     "data": {
      "text/plain": "                      start                     end      today  \\\n0   2023-03-15 16:27:20.498 2023-03-15 17:22:45.213 2023-03-15   \n1   2023-03-15 11:59:25.935 2023-03-15 12:21:10.798 2023-03-15   \n2   2023-03-15 16:26:11.317 2023-03-15 17:42:14.595 2023-03-15   \n3   2023-03-15 17:35:58.243 2023-03-15 18:27:23.575 2023-03-15   \n4   2023-03-15 12:19:38.177 2023-03-15 17:33:11.230 2023-03-15   \n..                      ...                     ...        ...   \n361 2023-03-22 09:25:22.304 2023-03-22 09:41:31.878 2023-03-22   \n362 2023-03-22 09:41:52.043 2023-03-22 10:15:04.523 2023-03-22   \n363 2023-03-22 09:04:28.785 2023-03-22 18:38:06.738 2023-03-22   \n364 2023-03-22 09:20:00.142 2023-03-22 18:38:19.182 2023-03-22   \n365 2023-03-22 09:32:32.293 2023-03-22 18:38:12.599 2023-03-22   \n\n                     deviceid                      imei      audit  \\\n0    collect:keYzjicWXARRflyk  collect:keYzjicWXARRflyk  audit.csv   \n1    collect:muHPxfpn0pPXCjhp  collect:muHPxfpn0pPXCjhp  audit.csv   \n2    collect:muHPxfpn0pPXCjhp  collect:muHPxfpn0pPXCjhp  audit.csv   \n3    collect:keYzjicWXARRflyk  collect:keYzjicWXARRflyk  audit.csv   \n4    collect:SOVgofSMqlCwQUJM  collect:SOVgofSMqlCwQUJM  audit.csv   \n..                        ...                       ...        ...   \n361  collect:aMCVAuDFtJG5sEIZ  collect:aMCVAuDFtJG5sEIZ  audit.csv   \n362  collect:aMCVAuDFtJG5sEIZ  collect:aMCVAuDFtJG5sEIZ  audit.csv   \n363            A1000061F45A40            A1000061F45A40  audit.csv   \n364            A1000061F45A40            A1000061F45A40  audit.csv   \n365            A1000061F45A40            A1000061F45A40  audit.csv   \n\n                                             audit_URL A1_interview_date  \\\n0    https://kc.humanitarianresponse.info/media/ori...        2023-03-15   \n1    https://kc.humanitarianresponse.info/media/ori...        2023-03-15   \n2    https://kc.humanitarianresponse.info/media/ori...        2023-03-15   \n3    https://kc.humanitarianresponse.info/media/ori...        2023-03-15   \n4    https://kc.humanitarianresponse.info/media/ori...        2023-03-15   \n..                                                 ...               ...   \n361  https://kc.humanitarianresponse.info/media/ori...        2023-03-22   \n362  https://kc.humanitarianresponse.info/media/ori...        2023-03-22   \n363  https://kc.humanitarianresponse.info/media/ori...        2023-03-22   \n364  https://kc.humanitarianresponse.info/media/ori...        2023-03-22   \n365  https://kc.humanitarianresponse.info/media/ori...        2023-03-22   \n\n    A2_enumerator_id A3_governorate  ...        _id  \\\n0              YEM14           Lahj  ...  404829934   \n1              YEM05           Lahj  ...  404832171   \n2              YEM16           Lahj  ...  404835585   \n3              YEM14           Lahj  ...  404871612   \n4              YEM15           Lahj  ...  404886172   \n..               ...            ...  ...        ...   \n361            YEM08           Lahj  ...  407422558   \n362            YEM08           Lahj  ...  407422594   \n363            YEM02           Lahj  ...  407489361   \n364            YEM02           Lahj  ...  407489391   \n365            YEM02           Lahj  ...  407489426   \n\n                                    _uuid    _submission_time  \\\n0    cb67906e-2282-404f-a427-e42c1a7f298e 2023-03-15 14:31:37   \n1    b47abd84-f3d0-4d50-9979-c480cd264502 2023-03-15 14:35:20   \n2    032ca6bb-03da-4acc-8f5b-94da695211fe 2023-03-15 14:42:28   \n3    d20c5bd1-6c61-4aae-b84a-114f173b7022 2023-03-15 15:57:53   \n4    a342ecc8-75e2-4f02-a853-9b7186b7bb84 2023-03-15 16:29:19   \n..                                    ...                 ...   \n361  ca3714da-535a-4f2f-b1c2-e5dba354505d 2023-03-22 13:41:19   \n362  8dd6e844-f767-442a-a279-d70c42ce35e9 2023-03-22 13:41:22   \n363  798880aa-fb8e-4d79-a4b3-302644732dfc 2023-03-22 15:45:08   \n364  ca91857d-c3f3-46d7-81bd-64e145c19723 2023-03-22 15:45:10   \n365  08f39168-b7b0-40f5-872c-2cc9f03850cc 2023-03-22 15:45:14   \n\n    _validation_status _notes            _status _submitted_by  \\\n0                  NaN    NaN  submitted_via_web    yemen_part   \n1                  NaN    NaN  submitted_via_web    yemen_part   \n2                  NaN    NaN  submitted_via_web    yemen_part   \n3                  NaN    NaN  submitted_via_web    yemen_part   \n4                  NaN    NaN  submitted_via_web    yemen_part   \n..                 ...    ...                ...           ...   \n361                NaN    NaN  submitted_via_web    yemen_part   \n362                NaN    NaN  submitted_via_web    yemen_part   \n363                NaN    NaN  submitted_via_web    yemen_part   \n364                NaN    NaN  submitted_via_web    yemen_part   \n365                NaN    NaN  submitted_via_web    yemen_part   \n\n                __version__ _tags  _index  \n0    v4BgNNA6KxTJFj8iCxGbgK   NaN       1  \n1    v72PYMXw9qPiUNXmVFdpru   NaN       2  \n2    v4BgNNA6KxTJFj8iCxGbgK   NaN       3  \n3    v4BgNNA6KxTJFj8iCxGbgK   NaN       4  \n4    v72PYMXw9qPiUNXmVFdpru   NaN       5  \n..                      ...   ...     ...  \n361  vDEuq4YmJQwqEuTEFDnoBw   NaN     362  \n362  vDEuq4YmJQwqEuTEFDnoBw   NaN     363  \n363  vDEuq4YmJQwqEuTEFDnoBw   NaN     364  \n364  vDEuq4YmJQwqEuTEFDnoBw   NaN     365  \n365  vDEuq4YmJQwqEuTEFDnoBw   NaN     366  \n\n[366 rows x 511 columns]",
      "text/html": "<div>\n<style scoped>\n    .dataframe tbody tr th:only-of-type {\n        vertical-align: middle;\n    }\n\n    .dataframe tbody tr th {\n        vertical-align: top;\n    }\n\n    .dataframe thead th {\n        text-align: right;\n    }\n</style>\n<table border=\"1\" class=\"dataframe\">\n  <thead>\n    <tr style=\"text-align: right;\">\n      <th></th>\n      <th>start</th>\n      <th>end</th>\n      <th>today</th>\n      <th>deviceid</th>\n      <th>imei</th>\n      <th>audit</th>\n      <th>audit_URL</th>\n      <th>A1_interview_date</th>\n      <th>A2_enumerator_id</th>\n      <th>A3_governorate</th>\n      <th>...</th>\n      <th>_id</th>\n      <th>_uuid</th>\n      <th>_submission_time</th>\n      <th>_validation_status</th>\n      <th>_notes</th>\n      <th>_status</th>\n      <th>_submitted_by</th>\n      <th>__version__</th>\n      <th>_tags</th>\n      <th>_index</th>\n    </tr>\n  </thead>\n  <tbody>\n    <tr>\n      <th>0</th>\n      <td>2023-03-15 16:27:20.498</td>\n      <td>2023-03-15 17:22:45.213</td>\n      <td>2023-03-15</td>\n      <td>collect:keYzjicWXARRflyk</td>\n      <td>collect:keYzjicWXARRflyk</td>\n      <td>audit.csv</td>\n      <td>https://kc.humanitarianresponse.info/media/ori...</td>\n      <td>2023-03-15</td>\n      <td>YEM14</td>\n      <td>Lahj</td>\n      <td>...</td>\n      <td>404829934</td>\n      <td>cb67906e-2282-404f-a427-e42c1a7f298e</td>\n      <td>2023-03-15 14:31:37</td>\n      <td>NaN</td>\n      <td>NaN</td>\n      <td>submitted_via_web</td>\n      <td>yemen_part</td>\n      <td>v4BgNNA6KxTJFj8iCxGbgK</td>\n      <td>NaN</td>\n      <td>1</td>\n    </tr>\n    <tr>\n      <th>1</th>\n      <td>2023-03-15 11:59:25.935</td>\n      <td>2023-03-15 12:21:10.798</td>\n      <td>2023-03-15</td>\n      <td>collect:muHPxfpn0pPXCjhp</td>\n      <td>collect:muHPxfpn0pPXCjhp</td>\n      <td>audit.csv</td>\n      <td>https://kc.humanitarianresponse.info/media/ori...</td>\n      <td>2023-03-15</td>\n      <td>YEM05</td>\n      <td>Lahj</td>\n      <td>...</td>\n      <td>404832171</td>\n      <td>b47abd84-f3d0-4d50-9979-c480cd264502</td>\n      <td>2023-03-15 14:35:20</td>\n      <td>NaN</td>\n      <td>NaN</td>\n      <td>submitted_via_web</td>\n      <td>yemen_part</td>\n      <td>v72PYMXw9qPiUNXmVFdpru</td>\n      <td>NaN</td>\n      <td>2</td>\n    </tr>\n    <tr>\n      <th>2</th>\n      <td>2023-03-15 16:26:11.317</td>\n      <td>2023-03-15 17:42:14.595</td>\n      <td>2023-03-15</td>\n      <td>collect:muHPxfpn0pPXCjhp</td>\n      <td>collect:muHPxfpn0pPXCjhp</td>\n      <td>audit.csv</td>\n      <td>https://kc.humanitarianresponse.info/media/ori...</td>\n      <td>2023-03-15</td>\n      <td>YEM16</td>\n      <td>Lahj</td>\n      <td>...</td>\n      <td>404835585</td>\n      <td>032ca6bb-03da-4acc-8f5b-94da695211fe</td>\n      <td>2023-03-15 14:42:28</td>\n      <td>NaN</td>\n      <td>NaN</td>\n      <td>submitted_via_web</td>\n      <td>yemen_part</td>\n      <td>v4BgNNA6KxTJFj8iCxGbgK</td>\n      <td>NaN</td>\n      <td>3</td>\n    </tr>\n    <tr>\n      <th>3</th>\n      <td>2023-03-15 17:35:58.243</td>\n      <td>2023-03-15 18:27:23.575</td>\n      <td>2023-03-15</td>\n      <td>collect:keYzjicWXARRflyk</td>\n      <td>collect:keYzjicWXARRflyk</td>\n      <td>audit.csv</td>\n      <td>https://kc.humanitarianresponse.info/media/ori...</td>\n      <td>2023-03-15</td>\n      <td>YEM14</td>\n      <td>Lahj</td>\n      <td>...</td>\n      <td>404871612</td>\n      <td>d20c5bd1-6c61-4aae-b84a-114f173b7022</td>\n      <td>2023-03-15 15:57:53</td>\n      <td>NaN</td>\n      <td>NaN</td>\n      <td>submitted_via_web</td>\n      <td>yemen_part</td>\n      <td>v4BgNNA6KxTJFj8iCxGbgK</td>\n      <td>NaN</td>\n      <td>4</td>\n    </tr>\n    <tr>\n      <th>4</th>\n      <td>2023-03-15 12:19:38.177</td>\n      <td>2023-03-15 17:33:11.230</td>\n      <td>2023-03-15</td>\n      <td>collect:SOVgofSMqlCwQUJM</td>\n      <td>collect:SOVgofSMqlCwQUJM</td>\n      <td>audit.csv</td>\n      <td>https://kc.humanitarianresponse.info/media/ori...</td>\n      <td>2023-03-15</td>\n      <td>YEM15</td>\n      <td>Lahj</td>\n      <td>...</td>\n      <td>404886172</td>\n      <td>a342ecc8-75e2-4f02-a853-9b7186b7bb84</td>\n      <td>2023-03-15 16:29:19</td>\n      <td>NaN</td>\n      <td>NaN</td>\n      <td>submitted_via_web</td>\n      <td>yemen_part</td>\n      <td>v72PYMXw9qPiUNXmVFdpru</td>\n      <td>NaN</td>\n      <td>5</td>\n    </tr>\n    <tr>\n      <th>...</th>\n      <td>...</td>\n      <td>...</td>\n      <td>...</td>\n      <td>...</td>\n      <td>...</td>\n      <td>...</td>\n      <td>...</td>\n      <td>...</td>\n      <td>...</td>\n      <td>...</td>\n      <td>...</td>\n      <td>...</td>\n      <td>...</td>\n      <td>...</td>\n      <td>...</td>\n      <td>...</td>\n      <td>...</td>\n      <td>...</td>\n      <td>...</td>\n      <td>...</td>\n      <td>...</td>\n    </tr>\n    <tr>\n      <th>361</th>\n      <td>2023-03-22 09:25:22.304</td>\n      <td>2023-03-22 09:41:31.878</td>\n      <td>2023-03-22</td>\n      <td>collect:aMCVAuDFtJG5sEIZ</td>\n      <td>collect:aMCVAuDFtJG5sEIZ</td>\n      <td>audit.csv</td>\n      <td>https://kc.humanitarianresponse.info/media/ori...</td>\n      <td>2023-03-22</td>\n      <td>YEM08</td>\n      <td>Lahj</td>\n      <td>...</td>\n      <td>407422558</td>\n      <td>ca3714da-535a-4f2f-b1c2-e5dba354505d</td>\n      <td>2023-03-22 13:41:19</td>\n      <td>NaN</td>\n      <td>NaN</td>\n      <td>submitted_via_web</td>\n      <td>yemen_part</td>\n      <td>vDEuq4YmJQwqEuTEFDnoBw</td>\n      <td>NaN</td>\n      <td>362</td>\n    </tr>\n    <tr>\n      <th>362</th>\n      <td>2023-03-22 09:41:52.043</td>\n      <td>2023-03-22 10:15:04.523</td>\n      <td>2023-03-22</td>\n      <td>collect:aMCVAuDFtJG5sEIZ</td>\n      <td>collect:aMCVAuDFtJG5sEIZ</td>\n      <td>audit.csv</td>\n      <td>https://kc.humanitarianresponse.info/media/ori...</td>\n      <td>2023-03-22</td>\n      <td>YEM08</td>\n      <td>Lahj</td>\n      <td>...</td>\n      <td>407422594</td>\n      <td>8dd6e844-f767-442a-a279-d70c42ce35e9</td>\n      <td>2023-03-22 13:41:22</td>\n      <td>NaN</td>\n      <td>NaN</td>\n      <td>submitted_via_web</td>\n      <td>yemen_part</td>\n      <td>vDEuq4YmJQwqEuTEFDnoBw</td>\n      <td>NaN</td>\n      <td>363</td>\n    </tr>\n    <tr>\n      <th>363</th>\n      <td>2023-03-22 09:04:28.785</td>\n      <td>2023-03-22 18:38:06.738</td>\n      <td>2023-03-22</td>\n      <td>A1000061F45A40</td>\n      <td>A1000061F45A40</td>\n      <td>audit.csv</td>\n      <td>https://kc.humanitarianresponse.info/media/ori...</td>\n      <td>2023-03-22</td>\n      <td>YEM02</td>\n      <td>Lahj</td>\n      <td>...</td>\n      <td>407489361</td>\n      <td>798880aa-fb8e-4d79-a4b3-302644732dfc</td>\n      <td>2023-03-22 15:45:08</td>\n      <td>NaN</td>\n      <td>NaN</td>\n      <td>submitted_via_web</td>\n      <td>yemen_part</td>\n      <td>vDEuq4YmJQwqEuTEFDnoBw</td>\n      <td>NaN</td>\n      <td>364</td>\n    </tr>\n    <tr>\n      <th>364</th>\n      <td>2023-03-22 09:20:00.142</td>\n      <td>2023-03-22 18:38:19.182</td>\n      <td>2023-03-22</td>\n      <td>A1000061F45A40</td>\n      <td>A1000061F45A40</td>\n      <td>audit.csv</td>\n      <td>https://kc.humanitarianresponse.info/media/ori...</td>\n      <td>2023-03-22</td>\n      <td>YEM02</td>\n      <td>Lahj</td>\n      <td>...</td>\n      <td>407489391</td>\n      <td>ca91857d-c3f3-46d7-81bd-64e145c19723</td>\n      <td>2023-03-22 15:45:10</td>\n      <td>NaN</td>\n      <td>NaN</td>\n      <td>submitted_via_web</td>\n      <td>yemen_part</td>\n      <td>vDEuq4YmJQwqEuTEFDnoBw</td>\n      <td>NaN</td>\n      <td>365</td>\n    </tr>\n    <tr>\n      <th>365</th>\n      <td>2023-03-22 09:32:32.293</td>\n      <td>2023-03-22 18:38:12.599</td>\n      <td>2023-03-22</td>\n      <td>A1000061F45A40</td>\n      <td>A1000061F45A40</td>\n      <td>audit.csv</td>\n      <td>https://kc.humanitarianresponse.info/media/ori...</td>\n      <td>2023-03-22</td>\n      <td>YEM02</td>\n      <td>Lahj</td>\n      <td>...</td>\n      <td>407489426</td>\n      <td>08f39168-b7b0-40f5-872c-2cc9f03850cc</td>\n      <td>2023-03-22 15:45:14</td>\n      <td>NaN</td>\n      <td>NaN</td>\n      <td>submitted_via_web</td>\n      <td>yemen_part</td>\n      <td>vDEuq4YmJQwqEuTEFDnoBw</td>\n      <td>NaN</td>\n      <td>366</td>\n    </tr>\n  </tbody>\n</table>\n<p>366 rows × 511 columns</p>\n</div>"
     },
     "execution_count": 6,
     "metadata": {},
     "output_type": "execute_result"
    }
   ],
   "source": [
    "df"
   ],
   "metadata": {
    "collapsed": false
   }
  },
  {
   "cell_type": "code",
   "execution_count": 6,
   "outputs": [
    {
     "data": {
      "text/plain": "Water_trucking                                                       0.421918\nRainwater_collection                                                 0.386301\nTanker_truck                                                         0.060274\nPiped_into_dwelling                                                  0.043836\nProtected_well_                                                      0.032877\nSurface_water_river_dam_lake_pond_stream_canal_irrigation_channel    0.030137\nCart_with_small_tank_drum                                            0.010959\nWater_kiosk                                                          0.010959\nProtected_spring                                                     0.002740\nName: C1_main_water_source, dtype: float64"
     },
     "execution_count": 6,
     "metadata": {},
     "output_type": "execute_result"
    }
   ],
   "source": [
    "df['C1_main_water_source'].value_counts(normalize=True)"
   ],
   "metadata": {
    "collapsed": false
   }
  },
  {
   "cell_type": "code",
   "execution_count": 7,
   "outputs": [
    {
     "data": {
      "text/plain": "C1_main_water_source  Cart_with_small_tank_drum  Piped_into_dwelling  \\\nA5_characteristic                                                      \nRural_Al_Jiblah                               0                    0   \nUrban_Al_Habelien                             4                   16   \n\nC1_main_water_source  Protected_spring  Protected_well_  Rainwater_collection  \\\nA5_characteristic                                                               \nRural_Al_Jiblah                      0               12                   140   \nUrban_Al_Habelien                    1                0                     1   \n\nC1_main_water_source  Surface_water_river_dam_lake_pond_stream_canal_irrigation_channel  \\\nA5_characteristic                                                                         \nRural_Al_Jiblah                                                       9                   \nUrban_Al_Habelien                                                     2                   \n\nC1_main_water_source  Tanker_truck  Water_kiosk  Water_trucking  \nA5_characteristic                                                \nRural_Al_Jiblah                  0            0               3  \nUrban_Al_Habelien               22            4             151  ",
      "text/html": "<div>\n<style scoped>\n    .dataframe tbody tr th:only-of-type {\n        vertical-align: middle;\n    }\n\n    .dataframe tbody tr th {\n        vertical-align: top;\n    }\n\n    .dataframe thead th {\n        text-align: right;\n    }\n</style>\n<table border=\"1\" class=\"dataframe\">\n  <thead>\n    <tr style=\"text-align: right;\">\n      <th>C1_main_water_source</th>\n      <th>Cart_with_small_tank_drum</th>\n      <th>Piped_into_dwelling</th>\n      <th>Protected_spring</th>\n      <th>Protected_well_</th>\n      <th>Rainwater_collection</th>\n      <th>Surface_water_river_dam_lake_pond_stream_canal_irrigation_channel</th>\n      <th>Tanker_truck</th>\n      <th>Water_kiosk</th>\n      <th>Water_trucking</th>\n    </tr>\n    <tr>\n      <th>A5_characteristic</th>\n      <th></th>\n      <th></th>\n      <th></th>\n      <th></th>\n      <th></th>\n      <th></th>\n      <th></th>\n      <th></th>\n      <th></th>\n    </tr>\n  </thead>\n  <tbody>\n    <tr>\n      <th>Rural_Al_Jiblah</th>\n      <td>0</td>\n      <td>0</td>\n      <td>0</td>\n      <td>12</td>\n      <td>140</td>\n      <td>9</td>\n      <td>0</td>\n      <td>0</td>\n      <td>3</td>\n    </tr>\n    <tr>\n      <th>Urban_Al_Habelien</th>\n      <td>4</td>\n      <td>16</td>\n      <td>1</td>\n      <td>0</td>\n      <td>1</td>\n      <td>2</td>\n      <td>22</td>\n      <td>4</td>\n      <td>151</td>\n    </tr>\n  </tbody>\n</table>\n</div>"
     },
     "execution_count": 7,
     "metadata": {},
     "output_type": "execute_result"
    }
   ],
   "source": [
    "grouped = df.groupby(['A5_characteristic', 'C1_main_water_source']).size().unstack(fill_value=0)\n",
    "grouped"
   ],
   "metadata": {
    "collapsed": false
   }
  },
  {
   "cell_type": "code",
   "execution_count": 10,
   "outputs": [
    {
     "data": {
      "text/plain": "         Water_trucking count  Water_trucking %  Rainwater_collection count  \\\nTotal                     154         42.076503                         141   \n\n       Rainwater_collection %  Tanker_truck count  Tanker_truck %  \\\nTotal                38.52459                  22        6.010929   \n\n       Piped_into_dwelling count  Piped_into_dwelling %  \\\nTotal                         16               4.371585   \n\n       Protected_well_ count  ...  \\\nTotal                     12  ...   \n\n       Surface_water_river_dam_lake_pond_stream_canal_irrigation_channel count  \\\nTotal                                                 11                         \n\n       Surface_water_river_dam_lake_pond_stream_canal_irrigation_channel %  \\\nTotal                                           3.005464                     \n\n       Cart_with_small_tank_drum count  Cart_with_small_tank_drum %  \\\nTotal                                4                     1.092896   \n\n       Water_kiosk count  Water_kiosk %  Protected_spring count  \\\nTotal                  4       1.092896                       1   \n\n       Protected_spring %  Total count  Total %  \nTotal            0.273224          366      100  \n\n[1 rows x 21 columns]",
      "text/html": "<div>\n<style scoped>\n    .dataframe tbody tr th:only-of-type {\n        vertical-align: middle;\n    }\n\n    .dataframe tbody tr th {\n        vertical-align: top;\n    }\n\n    .dataframe thead th {\n        text-align: right;\n    }\n</style>\n<table border=\"1\" class=\"dataframe\">\n  <thead>\n    <tr style=\"text-align: right;\">\n      <th></th>\n      <th></th>\n      <th>Water_trucking count</th>\n      <th>Water_trucking %</th>\n      <th>Rainwater_collection count</th>\n      <th>Rainwater_collection %</th>\n      <th>Tanker_truck count</th>\n      <th>Tanker_truck %</th>\n      <th>Piped_into_dwelling count</th>\n      <th>Piped_into_dwelling %</th>\n      <th>Protected_well_ count</th>\n      <th>...</th>\n      <th>Surface_water_river_dam_lake_pond_stream_canal_irrigation_channel count</th>\n      <th>Surface_water_river_dam_lake_pond_stream_canal_irrigation_channel %</th>\n      <th>Cart_with_small_tank_drum count</th>\n      <th>Cart_with_small_tank_drum %</th>\n      <th>Water_kiosk count</th>\n      <th>Water_kiosk %</th>\n      <th>Protected_spring count</th>\n      <th>Protected_spring %</th>\n      <th>Total count</th>\n      <th>Total %</th>\n    </tr>\n  </thead>\n  <tbody>\n    <tr>\n      <th>Total</th>\n      <td></td>\n      <td>154</td>\n      <td>42.076503</td>\n      <td>141</td>\n      <td>38.52459</td>\n      <td>22</td>\n      <td>6.010929</td>\n      <td>16</td>\n      <td>4.371585</td>\n      <td>12</td>\n      <td>...</td>\n      <td>11</td>\n      <td>3.005464</td>\n      <td>4</td>\n      <td>1.092896</td>\n      <td>4</td>\n      <td>1.092896</td>\n      <td>1</td>\n      <td>0.273224</td>\n      <td>366</td>\n      <td>100</td>\n    </tr>\n  </tbody>\n</table>\n<p>1 rows × 21 columns</p>\n</div>"
     },
     "execution_count": 10,
     "metadata": {},
     "output_type": "execute_result"
    }
   ],
   "source": [
    "# #data = {\n",
    "#     'Question1': ['yes', 'no', 'yes', 'don’t know', 'yes', 'no', 'don’t know'],\n",
    "#     \"Area\": ['Area1', \"Area2\", \"Area1\", \"Area2\", \"Area1\", \"Area1\", \"Area2\"]\n",
    "# }\n",
    "#df = pd.DataFrame(data)\n",
    "\n",
    "def compute_count_percent(df, column_name):\n",
    "    # Get the value counts\n",
    "    counts = df[column_name].value_counts()\n",
    "\n",
    "    # Calculate the total number of responses\n",
    "    total = len(df[column_name])\n",
    "\n",
    "    # Calculate the percentage for each unique value\n",
    "    percentages = (counts / total) * 100\n",
    "\n",
    "    # Create the columns\n",
    "    output = pd.DataFrame()\n",
    "\n",
    "    # Add one empty column\n",
    "    output[''] = ['']\n",
    "\n",
    "\n",
    "    for answer in counts.index:\n",
    "        output[answer + ' count'] = [counts[answer]]\n",
    "        output[answer + ' %'] = [percentages[answer]]\n",
    "\n",
    "    # Add the 'Total' columns\n",
    "    output['Total count'] = [total]\n",
    "    output['Total %'] = [100]\n",
    "\n",
    "    # Rename the index value to 'Total'\n",
    "    output.index = ['Total']\n",
    "\n",
    "    return output\n",
    "\n",
    "total = compute_count_percent(df,\"C1_main_water_source\")\n",
    "total"
   ],
   "metadata": {
    "collapsed": false
   }
  },
  {
   "cell_type": "code",
   "execution_count": null,
   "outputs": [],
   "source": [
    "df"
   ],
   "metadata": {
    "collapsed": false
   }
  },
  {
   "cell_type": "code",
   "execution_count": null,
   "outputs": [],
   "source": [],
   "metadata": {
    "collapsed": false
   }
  },
  {
   "cell_type": "code",
   "execution_count": null,
   "outputs": [],
   "source": [],
   "metadata": {
    "collapsed": false
   }
  },
  {
   "cell_type": "code",
   "execution_count": null,
   "outputs": [],
   "source": [
    "# # import pandas as pd\n",
    "# #\n",
    "# # data = {\n",
    "# #     'Question1': ['yes', 'no', 'yes', 'don’t know', 'yes', 'no', 'don’t know'],\n",
    "# #     \"Area\": ['Area1', \"Area2\", \"Area1\", \"Area2\", \"Area1\", \"Area1\", \"Area2\"]\n",
    "# # }\n",
    "# # df = pd.DataFrame(data)\n",
    "#\n",
    "# def compute_count_percent_with_grouping(dfpd.DataFrame, column_name:str, groupby_column:list):\n",
    "#     grouped = df.groupby(groupby_column)\n",
    "#\n",
    "#     # Initialize an empty DataFrame for the final output\n",
    "#     output = pd.DataFrame()\n",
    "#\n",
    "#     for name, group in grouped:\n",
    "#         # Get the value counts for the group\n",
    "#         counts = group[column_name].value_counts()\n",
    "#\n",
    "#         # Calculate the total number of responses for the group\n",
    "#         total = len(group[column_name])\n",
    "#\n",
    "#         # Calculate the percentage for each unique value in the group\n",
    "#         percentages = (counts / total) * 100\n",
    "#\n",
    "#         # Create a temporary DataFrame for the group\n",
    "#         temp_df = pd.DataFrame()\n",
    "#\n",
    "#         # Insert the groupby_column value as the first column\n",
    "#         temp_df[\"\"] = [name]\n",
    "#\n",
    "#         for answer in counts.index:\n",
    "#             temp_df[answer + ' count'] = [counts[answer]]\n",
    "#             temp_df[answer + ' %'] = [percentages[answer]]\n",
    "#\n",
    "#         # Add the 'Total' columns for the group\n",
    "#         temp_df['Total count'] = [total]\n",
    "#         temp_df['Total %'] = [100]\n",
    "#\n",
    "#         # Set the index value to the string groupby_column\n",
    "#         temp_df.index = [groupby_column]\n",
    "#\n",
    "#         # Append the temporary DataFrame to the final output\n",
    "#         output = output.append(temp_df)\n",
    "#\n",
    "#     # Reorder the columns to move 'Total count' and 'Total %' to the end\n",
    "#     cols = [col for col in output if col not in ['Total count', 'Total %']] + ['Total count', 'Total %']\n",
    "#\n",
    "#     output = output[cols]\n",
    "#     output = output.fillna(0)\n",
    "#\n",
    "#     return output\n",
    "#\n",
    "# df_output = compute_count_percent_with_grouping(df, 'C1_main_water_source', 'A5_characteristic')\n",
    "# df_output\n"
   ],
   "metadata": {
    "collapsed": false
   }
  },
  {
   "cell_type": "code",
   "execution_count": null,
   "outputs": [],
   "source": [
    "\n"
   ],
   "metadata": {
    "collapsed": false
   }
  },
  {
   "cell_type": "code",
   "execution_count": 9,
   "outputs": [
    {
     "name": "stderr",
     "output_type": "stream",
     "text": [
      "C:\\Users\\Reach\\AppData\\Local\\Temp\\ipykernel_12276\\4170110788.py:45: FutureWarning: The frame.append method is deprecated and will be removed from pandas in a future version. Use pandas.concat instead.\n",
      "  output = output.append(temp_df)\n",
      "C:\\Users\\Reach\\AppData\\Local\\Temp\\ipykernel_12276\\4170110788.py:45: FutureWarning: The frame.append method is deprecated and will be removed from pandas in a future version. Use pandas.concat instead.\n",
      "  output = output.append(temp_df)\n",
      "C:\\Users\\Reach\\AppData\\Local\\Temp\\ipykernel_12276\\4170110788.py:45: FutureWarning: The frame.append method is deprecated and will be removed from pandas in a future version. Use pandas.concat instead.\n",
      "  output = output.append(temp_df)\n",
      "C:\\Users\\Reach\\AppData\\Local\\Temp\\ipykernel_12276\\4170110788.py:45: FutureWarning: The frame.append method is deprecated and will be removed from pandas in a future version. Use pandas.concat instead.\n",
      "  output = output.append(temp_df)\n",
      "C:\\Users\\Reach\\AppData\\Local\\Temp\\ipykernel_12276\\4170110788.py:45: FutureWarning: The frame.append method is deprecated and will be removed from pandas in a future version. Use pandas.concat instead.\n",
      "  output = output.append(temp_df)\n",
      "C:\\Users\\Reach\\AppData\\Local\\Temp\\ipykernel_12276\\4170110788.py:45: FutureWarning: The frame.append method is deprecated and will be removed from pandas in a future version. Use pandas.concat instead.\n",
      "  output = output.append(temp_df)\n",
      "C:\\Users\\Reach\\AppData\\Local\\Temp\\ipykernel_12276\\4170110788.py:45: FutureWarning: The frame.append method is deprecated and will be removed from pandas in a future version. Use pandas.concat instead.\n",
      "  output = output.append(temp_df)\n",
      "C:\\Users\\Reach\\AppData\\Local\\Temp\\ipykernel_12276\\4170110788.py:45: FutureWarning: The frame.append method is deprecated and will be removed from pandas in a future version. Use pandas.concat instead.\n",
      "  output = output.append(temp_df)\n",
      "C:\\Users\\Reach\\AppData\\Local\\Temp\\ipykernel_12276\\4170110788.py:45: FutureWarning: The frame.append method is deprecated and will be removed from pandas in a future version. Use pandas.concat instead.\n",
      "  output = output.append(temp_df)\n",
      "C:\\Users\\Reach\\AppData\\Local\\Temp\\ipykernel_12276\\4170110788.py:45: FutureWarning: The frame.append method is deprecated and will be removed from pandas in a future version. Use pandas.concat instead.\n",
      "  output = output.append(temp_df)\n",
      "C:\\Users\\Reach\\AppData\\Local\\Temp\\ipykernel_12276\\4170110788.py:45: FutureWarning: The frame.append method is deprecated and will be removed from pandas in a future version. Use pandas.concat instead.\n",
      "  output = output.append(temp_df)\n",
      "C:\\Users\\Reach\\AppData\\Local\\Temp\\ipykernel_12276\\4170110788.py:45: FutureWarning: The frame.append method is deprecated and will be removed from pandas in a future version. Use pandas.concat instead.\n",
      "  output = output.append(temp_df)\n",
      "C:\\Users\\Reach\\AppData\\Local\\Temp\\ipykernel_12276\\4170110788.py:45: FutureWarning: The frame.append method is deprecated and will be removed from pandas in a future version. Use pandas.concat instead.\n",
      "  output = output.append(temp_df)\n",
      "C:\\Users\\Reach\\AppData\\Local\\Temp\\ipykernel_12276\\4170110788.py:45: FutureWarning: The frame.append method is deprecated and will be removed from pandas in a future version. Use pandas.concat instead.\n",
      "  output = output.append(temp_df)\n",
      "C:\\Users\\Reach\\AppData\\Local\\Temp\\ipykernel_12276\\4170110788.py:45: FutureWarning: The frame.append method is deprecated and will be removed from pandas in a future version. Use pandas.concat instead.\n",
      "  output = output.append(temp_df)\n",
      "C:\\Users\\Reach\\AppData\\Local\\Temp\\ipykernel_12276\\4170110788.py:45: FutureWarning: The frame.append method is deprecated and will be removed from pandas in a future version. Use pandas.concat instead.\n",
      "  output = output.append(temp_df)\n",
      "C:\\Users\\Reach\\AppData\\Local\\Temp\\ipykernel_12276\\4170110788.py:45: FutureWarning: The frame.append method is deprecated and will be removed from pandas in a future version. Use pandas.concat instead.\n",
      "  output = output.append(temp_df)\n",
      "C:\\Users\\Reach\\AppData\\Local\\Temp\\ipykernel_12276\\4170110788.py:45: FutureWarning: The frame.append method is deprecated and will be removed from pandas in a future version. Use pandas.concat instead.\n",
      "  output = output.append(temp_df)\n",
      "C:\\Users\\Reach\\AppData\\Local\\Temp\\ipykernel_12276\\4170110788.py:45: FutureWarning: The frame.append method is deprecated and will be removed from pandas in a future version. Use pandas.concat instead.\n",
      "  output = output.append(temp_df)\n"
     ]
    }
   ],
   "source": [
    "def compute_count_percent_with_grouping(df: pd.DataFrame, column_name: str, groupby_columns: list):\n",
    "    all_outputs = []\n",
    "\n",
    "    # Get all unique answers in the entire dataset\n",
    "    all_answers = df[column_name].dropna().unique()\n",
    "\n",
    "    for groupby_column in groupby_columns:\n",
    "        grouped = df.groupby(groupby_column)\n",
    "\n",
    "        # Initialize an empty DataFrame for the final output\n",
    "        output = pd.DataFrame()\n",
    "\n",
    "        for name, group in grouped:\n",
    "            # Create a temporary DataFrame for the group with predefined columns\n",
    "            temp_df = pd.DataFrame(columns=[str(answer) + ' count' for answer in all_answers] +\n",
    "                       [str(answer) + ' %' for answer in all_answers] +\n",
    "                       ['Total count', 'Total %', ''])\n",
    "\n",
    "\n",
    "            # Insert the groupby_column value as the first column\n",
    "            temp_df[\"\"] = [name]\n",
    "\n",
    "            # Get the value counts for the group\n",
    "            counts = group[column_name].value_counts()\n",
    "\n",
    "            # Calculate the total number of responses for the group\n",
    "            total = len(group[column_name])\n",
    "\n",
    "            # Calculate the percentage for each unique value in the group\n",
    "            percentages = (counts / total) * 100\n",
    "\n",
    "            for answer in all_answers:\n",
    "                # get answers from answers list\n",
    "                temp_df[str(answer) + ' count'] = [counts.get(answer, 0)]\n",
    "                temp_df[str(answer) + ' %'] = [percentages.get(answer, 0)]\n",
    "\n",
    "            # Add the 'Total' columns for the group\n",
    "            temp_df['Total count'] = [total]\n",
    "            temp_df['Total %'] = [100]\n",
    "\n",
    "            # Set the index value to the groupby_column\n",
    "            temp_df.index = [groupby_column]\n",
    "\n",
    "            # Append the temporary DataFrame to the final output\n",
    "            output = output.append(temp_df)\n",
    "\n",
    "        # Reorder the columns to move 'Total count' and 'Total %' to the end\n",
    "        cols = [col for col in output if col not in ['Total count', 'Total %']] + ['Total count', 'Total %']\n",
    "\n",
    "        output = output[cols]\n",
    "        output = output.fillna(0)\n",
    "\n",
    "        all_outputs.append(output)\n",
    "\n",
    "    # Concatenate all outputs into a single DataFrame\n",
    "    final_output = pd.concat(all_outputs, axis=0)\n",
    "    return final_output\n",
    "\n",
    "df_output = compute_count_percent_with_grouping(df, 'C1_main_water_source', ['A5_characteristic', 'A6_location'])\n",
    "\n"
   ],
   "metadata": {
    "collapsed": false
   }
  },
  {
   "cell_type": "code",
   "execution_count": 11,
   "outputs": [
    {
     "name": "stderr",
     "output_type": "stream",
     "text": [
      "C:\\Users\\Reach\\AppData\\Local\\Temp\\ipykernel_12276\\4170110788.py:45: FutureWarning: The frame.append method is deprecated and will be removed from pandas in a future version. Use pandas.concat instead.\n",
      "  output = output.append(temp_df)\n",
      "C:\\Users\\Reach\\AppData\\Local\\Temp\\ipykernel_12276\\4170110788.py:45: FutureWarning: The frame.append method is deprecated and will be removed from pandas in a future version. Use pandas.concat instead.\n",
      "  output = output.append(temp_df)\n",
      "C:\\Users\\Reach\\AppData\\Local\\Temp\\ipykernel_12276\\4170110788.py:45: FutureWarning: The frame.append method is deprecated and will be removed from pandas in a future version. Use pandas.concat instead.\n",
      "  output = output.append(temp_df)\n",
      "C:\\Users\\Reach\\AppData\\Local\\Temp\\ipykernel_12276\\4170110788.py:45: FutureWarning: The frame.append method is deprecated and will be removed from pandas in a future version. Use pandas.concat instead.\n",
      "  output = output.append(temp_df)\n",
      "C:\\Users\\Reach\\AppData\\Local\\Temp\\ipykernel_12276\\4170110788.py:45: FutureWarning: The frame.append method is deprecated and will be removed from pandas in a future version. Use pandas.concat instead.\n",
      "  output = output.append(temp_df)\n",
      "C:\\Users\\Reach\\AppData\\Local\\Temp\\ipykernel_12276\\4170110788.py:45: FutureWarning: The frame.append method is deprecated and will be removed from pandas in a future version. Use pandas.concat instead.\n",
      "  output = output.append(temp_df)\n",
      "C:\\Users\\Reach\\AppData\\Local\\Temp\\ipykernel_12276\\4170110788.py:45: FutureWarning: The frame.append method is deprecated and will be removed from pandas in a future version. Use pandas.concat instead.\n",
      "  output = output.append(temp_df)\n",
      "C:\\Users\\Reach\\AppData\\Local\\Temp\\ipykernel_12276\\4170110788.py:45: FutureWarning: The frame.append method is deprecated and will be removed from pandas in a future version. Use pandas.concat instead.\n",
      "  output = output.append(temp_df)\n",
      "C:\\Users\\Reach\\AppData\\Local\\Temp\\ipykernel_12276\\4170110788.py:45: FutureWarning: The frame.append method is deprecated and will be removed from pandas in a future version. Use pandas.concat instead.\n",
      "  output = output.append(temp_df)\n",
      "C:\\Users\\Reach\\AppData\\Local\\Temp\\ipykernel_12276\\4170110788.py:45: FutureWarning: The frame.append method is deprecated and will be removed from pandas in a future version. Use pandas.concat instead.\n",
      "  output = output.append(temp_df)\n",
      "C:\\Users\\Reach\\AppData\\Local\\Temp\\ipykernel_12276\\4170110788.py:45: FutureWarning: The frame.append method is deprecated and will be removed from pandas in a future version. Use pandas.concat instead.\n",
      "  output = output.append(temp_df)\n",
      "C:\\Users\\Reach\\AppData\\Local\\Temp\\ipykernel_12276\\4170110788.py:45: FutureWarning: The frame.append method is deprecated and will be removed from pandas in a future version. Use pandas.concat instead.\n",
      "  output = output.append(temp_df)\n",
      "C:\\Users\\Reach\\AppData\\Local\\Temp\\ipykernel_12276\\4170110788.py:45: FutureWarning: The frame.append method is deprecated and will be removed from pandas in a future version. Use pandas.concat instead.\n",
      "  output = output.append(temp_df)\n",
      "C:\\Users\\Reach\\AppData\\Local\\Temp\\ipykernel_12276\\4170110788.py:45: FutureWarning: The frame.append method is deprecated and will be removed from pandas in a future version. Use pandas.concat instead.\n",
      "  output = output.append(temp_df)\n",
      "C:\\Users\\Reach\\AppData\\Local\\Temp\\ipykernel_12276\\4170110788.py:45: FutureWarning: The frame.append method is deprecated and will be removed from pandas in a future version. Use pandas.concat instead.\n",
      "  output = output.append(temp_df)\n",
      "C:\\Users\\Reach\\AppData\\Local\\Temp\\ipykernel_12276\\4170110788.py:45: FutureWarning: The frame.append method is deprecated and will be removed from pandas in a future version. Use pandas.concat instead.\n",
      "  output = output.append(temp_df)\n",
      "C:\\Users\\Reach\\AppData\\Local\\Temp\\ipykernel_12276\\4170110788.py:45: FutureWarning: The frame.append method is deprecated and will be removed from pandas in a future version. Use pandas.concat instead.\n",
      "  output = output.append(temp_df)\n",
      "C:\\Users\\Reach\\AppData\\Local\\Temp\\ipykernel_12276\\4170110788.py:45: FutureWarning: The frame.append method is deprecated and will be removed from pandas in a future version. Use pandas.concat instead.\n",
      "  output = output.append(temp_df)\n",
      "C:\\Users\\Reach\\AppData\\Local\\Temp\\ipykernel_12276\\4170110788.py:45: FutureWarning: The frame.append method is deprecated and will be removed from pandas in a future version. Use pandas.concat instead.\n",
      "  output = output.append(temp_df)\n"
     ]
    },
    {
     "data": {
      "text/plain": "                                                  Water_trucking count  \\\nTotal                                                              154   \nA5_characteristic                Rural_Al_Jiblah                     3   \nA5_characteristic              Urban_Al_Habelien                   151   \nA6_location                          Al_Al_Dheeb                     0   \nA6_location                              Al_Alio                     0   \nA6_location                          Al_Greshfah                     0   \nA6_location                             Al_Hajeb                     0   \nA6_location                           Al_Jabelah                     0   \nA6_location                           Al_Jaeazah                     0   \nA6_location                             Al_Masql                     0   \nA6_location                              Al_Mosa                     1   \nA6_location        Al_Qarah_Al_Jabelah_Al_Dharfi                     0   \nA6_location                             Al_Sheri                     0   \nA6_location                            Al_Thelah                     0   \nA6_location                          Haid_Lathom                     2   \nA6_location                                 Homr                     0   \nA6_location                           Jahor_Lali                     0   \nA6_location                            Khla_Lali                     0   \nA6_location                                Kinad                     0   \nA6_location                               Saman_                     0   \n\n                   Water_trucking %  Rainwater_collection count  \\\nTotal                     42.076503                         141   \nA5_characteristic          1.829268                         140   \nA5_characteristic         74.752475                           1   \nA6_location                0.000000                           2   \nA6_location                0.000000                           4   \nA6_location                0.000000                           9   \nA6_location                0.000000                          18   \nA6_location                0.000000                          25   \nA6_location                0.000000                           6   \nA6_location                0.000000                           5   \nA6_location               20.000000                           2   \nA6_location                0.000000                           5   \nA6_location                0.000000                           0   \nA6_location                0.000000                           9   \nA6_location               15.384615                          11   \nA6_location                0.000000                           7   \nA6_location                0.000000                          10   \nA6_location                0.000000                          15   \nA6_location                0.000000                          12   \nA6_location                0.000000                           0   \n\n                   Rainwater_collection %  Tanker_truck count  Tanker_truck %  \\\nTotal                           38.524590                  22        6.010929   \nA5_characteristic               85.365854                   0        0.000000   \nA5_characteristic                0.495050                  22       10.891089   \nA6_location                     66.666667                   0        0.000000   \nA6_location                    100.000000                   0        0.000000   \nA6_location                    100.000000                   0        0.000000   \nA6_location                    100.000000                   0        0.000000   \nA6_location                    100.000000                   0        0.000000   \nA6_location                    100.000000                   0        0.000000   \nA6_location                    100.000000                   0        0.000000   \nA6_location                     40.000000                   0        0.000000   \nA6_location                    100.000000                   0        0.000000   \nA6_location                      0.000000                   0        0.000000   \nA6_location                    100.000000                   0        0.000000   \nA6_location                     84.615385                   0        0.000000   \nA6_location                     87.500000                   0        0.000000   \nA6_location                    100.000000                   0        0.000000   \nA6_location                    100.000000                   0        0.000000   \nA6_location                    100.000000                   0        0.000000   \nA6_location                      0.000000                   0        0.000000   \n\n                   Piped_into_dwelling count  Piped_into_dwelling %  \\\nTotal                                     16               4.371585   \nA5_characteristic                          0               0.000000   \nA5_characteristic                         16               7.920792   \nA6_location                                0               0.000000   \nA6_location                                0               0.000000   \nA6_location                                0               0.000000   \nA6_location                                0               0.000000   \nA6_location                                0               0.000000   \nA6_location                                0               0.000000   \nA6_location                                0               0.000000   \nA6_location                                0               0.000000   \nA6_location                                0               0.000000   \nA6_location                                0               0.000000   \nA6_location                                0               0.000000   \nA6_location                                0               0.000000   \nA6_location                                0               0.000000   \nA6_location                                0               0.000000   \nA6_location                                0               0.000000   \nA6_location                                0               0.000000   \nA6_location                                0               0.000000   \n\n                   Protected_well_ count  ...  \\\nTotal                                 12  ...   \nA5_characteristic                     12  ...   \nA5_characteristic                      0  ...   \nA6_location                            0  ...   \nA6_location                            0  ...   \nA6_location                            0  ...   \nA6_location                            0  ...   \nA6_location                            0  ...   \nA6_location                            0  ...   \nA6_location                            0  ...   \nA6_location                            0  ...   \nA6_location                            0  ...   \nA6_location                            0  ...   \nA6_location                            0  ...   \nA6_location                            0  ...   \nA6_location                            0  ...   \nA6_location                            0  ...   \nA6_location                            0  ...   \nA6_location                            0  ...   \nA6_location                           12  ...   \n\n                   Surface_water_river_dam_lake_pond_stream_canal_irrigation_channel count  \\\nTotal                                                             11                         \nA5_characteristic                                                  9                         \nA5_characteristic                                                  2                         \nA6_location                                                        1                         \nA6_location                                                        0                         \nA6_location                                                        0                         \nA6_location                                                        0                         \nA6_location                                                        0                         \nA6_location                                                        0                         \nA6_location                                                        0                         \nA6_location                                                        2                         \nA6_location                                                        0                         \nA6_location                                                        5                         \nA6_location                                                        0                         \nA6_location                                                        0                         \nA6_location                                                        1                         \nA6_location                                                        0                         \nA6_location                                                        0                         \nA6_location                                                        0                         \nA6_location                                                        0                         \n\n                   Surface_water_river_dam_lake_pond_stream_canal_irrigation_channel %  \\\nTotal                                                       3.005464                     \nA5_characteristic                                           5.487805                     \nA5_characteristic                                           0.990099                     \nA6_location                                                33.333333                     \nA6_location                                                 0.000000                     \nA6_location                                                 0.000000                     \nA6_location                                                 0.000000                     \nA6_location                                                 0.000000                     \nA6_location                                                 0.000000                     \nA6_location                                                 0.000000                     \nA6_location                                                40.000000                     \nA6_location                                                 0.000000                     \nA6_location                                               100.000000                     \nA6_location                                                 0.000000                     \nA6_location                                                 0.000000                     \nA6_location                                                12.500000                     \nA6_location                                                 0.000000                     \nA6_location                                                 0.000000                     \nA6_location                                                 0.000000                     \nA6_location                                                 0.000000                     \n\n                   Cart_with_small_tank_drum count  \\\nTotal                                            4   \nA5_characteristic                                0   \nA5_characteristic                                4   \nA6_location                                      0   \nA6_location                                      0   \nA6_location                                      0   \nA6_location                                      0   \nA6_location                                      0   \nA6_location                                      0   \nA6_location                                      0   \nA6_location                                      0   \nA6_location                                      0   \nA6_location                                      0   \nA6_location                                      0   \nA6_location                                      0   \nA6_location                                      0   \nA6_location                                      0   \nA6_location                                      0   \nA6_location                                      0   \nA6_location                                      0   \n\n                   Cart_with_small_tank_drum %  Water_kiosk count  \\\nTotal                                 1.092896                  4   \nA5_characteristic                     0.000000                  0   \nA5_characteristic                     1.980198                  4   \nA6_location                           0.000000                  0   \nA6_location                           0.000000                  0   \nA6_location                           0.000000                  0   \nA6_location                           0.000000                  0   \nA6_location                           0.000000                  0   \nA6_location                           0.000000                  0   \nA6_location                           0.000000                  0   \nA6_location                           0.000000                  0   \nA6_location                           0.000000                  0   \nA6_location                           0.000000                  0   \nA6_location                           0.000000                  0   \nA6_location                           0.000000                  0   \nA6_location                           0.000000                  0   \nA6_location                           0.000000                  0   \nA6_location                           0.000000                  0   \nA6_location                           0.000000                  0   \nA6_location                           0.000000                  0   \n\n                   Water_kiosk %  Protected_spring count  Protected_spring %  \\\nTotal                   1.092896                       1            0.273224   \nA5_characteristic       0.000000                       0            0.000000   \nA5_characteristic       1.980198                       1            0.495050   \nA6_location             0.000000                       0            0.000000   \nA6_location             0.000000                       0            0.000000   \nA6_location             0.000000                       0            0.000000   \nA6_location             0.000000                       0            0.000000   \nA6_location             0.000000                       0            0.000000   \nA6_location             0.000000                       0            0.000000   \nA6_location             0.000000                       0            0.000000   \nA6_location             0.000000                       0            0.000000   \nA6_location             0.000000                       0            0.000000   \nA6_location             0.000000                       0            0.000000   \nA6_location             0.000000                       0            0.000000   \nA6_location             0.000000                       0            0.000000   \nA6_location             0.000000                       0            0.000000   \nA6_location             0.000000                       0            0.000000   \nA6_location             0.000000                       0            0.000000   \nA6_location             0.000000                       0            0.000000   \nA6_location             0.000000                       0            0.000000   \n\n                   Total count  Total %  \nTotal                      366      100  \nA5_characteristic          164      100  \nA5_characteristic          202      100  \nA6_location                  3      100  \nA6_location                  4      100  \nA6_location                  9      100  \nA6_location                 18      100  \nA6_location                 25      100  \nA6_location                  6      100  \nA6_location                  5      100  \nA6_location                  5      100  \nA6_location                  5      100  \nA6_location                  5      100  \nA6_location                  9      100  \nA6_location                 13      100  \nA6_location                  8      100  \nA6_location                 10      100  \nA6_location                 15      100  \nA6_location                 12      100  \nA6_location                 12      100  \n\n[20 rows x 21 columns]",
      "text/html": "<div>\n<style scoped>\n    .dataframe tbody tr th:only-of-type {\n        vertical-align: middle;\n    }\n\n    .dataframe tbody tr th {\n        vertical-align: top;\n    }\n\n    .dataframe thead th {\n        text-align: right;\n    }\n</style>\n<table border=\"1\" class=\"dataframe\">\n  <thead>\n    <tr style=\"text-align: right;\">\n      <th></th>\n      <th></th>\n      <th>Water_trucking count</th>\n      <th>Water_trucking %</th>\n      <th>Rainwater_collection count</th>\n      <th>Rainwater_collection %</th>\n      <th>Tanker_truck count</th>\n      <th>Tanker_truck %</th>\n      <th>Piped_into_dwelling count</th>\n      <th>Piped_into_dwelling %</th>\n      <th>Protected_well_ count</th>\n      <th>...</th>\n      <th>Surface_water_river_dam_lake_pond_stream_canal_irrigation_channel count</th>\n      <th>Surface_water_river_dam_lake_pond_stream_canal_irrigation_channel %</th>\n      <th>Cart_with_small_tank_drum count</th>\n      <th>Cart_with_small_tank_drum %</th>\n      <th>Water_kiosk count</th>\n      <th>Water_kiosk %</th>\n      <th>Protected_spring count</th>\n      <th>Protected_spring %</th>\n      <th>Total count</th>\n      <th>Total %</th>\n    </tr>\n  </thead>\n  <tbody>\n    <tr>\n      <th>Total</th>\n      <td></td>\n      <td>154</td>\n      <td>42.076503</td>\n      <td>141</td>\n      <td>38.524590</td>\n      <td>22</td>\n      <td>6.010929</td>\n      <td>16</td>\n      <td>4.371585</td>\n      <td>12</td>\n      <td>...</td>\n      <td>11</td>\n      <td>3.005464</td>\n      <td>4</td>\n      <td>1.092896</td>\n      <td>4</td>\n      <td>1.092896</td>\n      <td>1</td>\n      <td>0.273224</td>\n      <td>366</td>\n      <td>100</td>\n    </tr>\n    <tr>\n      <th>A5_characteristic</th>\n      <td>Rural_Al_Jiblah</td>\n      <td>3</td>\n      <td>1.829268</td>\n      <td>140</td>\n      <td>85.365854</td>\n      <td>0</td>\n      <td>0.000000</td>\n      <td>0</td>\n      <td>0.000000</td>\n      <td>12</td>\n      <td>...</td>\n      <td>9</td>\n      <td>5.487805</td>\n      <td>0</td>\n      <td>0.000000</td>\n      <td>0</td>\n      <td>0.000000</td>\n      <td>0</td>\n      <td>0.000000</td>\n      <td>164</td>\n      <td>100</td>\n    </tr>\n    <tr>\n      <th>A5_characteristic</th>\n      <td>Urban_Al_Habelien</td>\n      <td>151</td>\n      <td>74.752475</td>\n      <td>1</td>\n      <td>0.495050</td>\n      <td>22</td>\n      <td>10.891089</td>\n      <td>16</td>\n      <td>7.920792</td>\n      <td>0</td>\n      <td>...</td>\n      <td>2</td>\n      <td>0.990099</td>\n      <td>4</td>\n      <td>1.980198</td>\n      <td>4</td>\n      <td>1.980198</td>\n      <td>1</td>\n      <td>0.495050</td>\n      <td>202</td>\n      <td>100</td>\n    </tr>\n    <tr>\n      <th>A6_location</th>\n      <td>Al_Al_Dheeb</td>\n      <td>0</td>\n      <td>0.000000</td>\n      <td>2</td>\n      <td>66.666667</td>\n      <td>0</td>\n      <td>0.000000</td>\n      <td>0</td>\n      <td>0.000000</td>\n      <td>0</td>\n      <td>...</td>\n      <td>1</td>\n      <td>33.333333</td>\n      <td>0</td>\n      <td>0.000000</td>\n      <td>0</td>\n      <td>0.000000</td>\n      <td>0</td>\n      <td>0.000000</td>\n      <td>3</td>\n      <td>100</td>\n    </tr>\n    <tr>\n      <th>A6_location</th>\n      <td>Al_Alio</td>\n      <td>0</td>\n      <td>0.000000</td>\n      <td>4</td>\n      <td>100.000000</td>\n      <td>0</td>\n      <td>0.000000</td>\n      <td>0</td>\n      <td>0.000000</td>\n      <td>0</td>\n      <td>...</td>\n      <td>0</td>\n      <td>0.000000</td>\n      <td>0</td>\n      <td>0.000000</td>\n      <td>0</td>\n      <td>0.000000</td>\n      <td>0</td>\n      <td>0.000000</td>\n      <td>4</td>\n      <td>100</td>\n    </tr>\n    <tr>\n      <th>A6_location</th>\n      <td>Al_Greshfah</td>\n      <td>0</td>\n      <td>0.000000</td>\n      <td>9</td>\n      <td>100.000000</td>\n      <td>0</td>\n      <td>0.000000</td>\n      <td>0</td>\n      <td>0.000000</td>\n      <td>0</td>\n      <td>...</td>\n      <td>0</td>\n      <td>0.000000</td>\n      <td>0</td>\n      <td>0.000000</td>\n      <td>0</td>\n      <td>0.000000</td>\n      <td>0</td>\n      <td>0.000000</td>\n      <td>9</td>\n      <td>100</td>\n    </tr>\n    <tr>\n      <th>A6_location</th>\n      <td>Al_Hajeb</td>\n      <td>0</td>\n      <td>0.000000</td>\n      <td>18</td>\n      <td>100.000000</td>\n      <td>0</td>\n      <td>0.000000</td>\n      <td>0</td>\n      <td>0.000000</td>\n      <td>0</td>\n      <td>...</td>\n      <td>0</td>\n      <td>0.000000</td>\n      <td>0</td>\n      <td>0.000000</td>\n      <td>0</td>\n      <td>0.000000</td>\n      <td>0</td>\n      <td>0.000000</td>\n      <td>18</td>\n      <td>100</td>\n    </tr>\n    <tr>\n      <th>A6_location</th>\n      <td>Al_Jabelah</td>\n      <td>0</td>\n      <td>0.000000</td>\n      <td>25</td>\n      <td>100.000000</td>\n      <td>0</td>\n      <td>0.000000</td>\n      <td>0</td>\n      <td>0.000000</td>\n      <td>0</td>\n      <td>...</td>\n      <td>0</td>\n      <td>0.000000</td>\n      <td>0</td>\n      <td>0.000000</td>\n      <td>0</td>\n      <td>0.000000</td>\n      <td>0</td>\n      <td>0.000000</td>\n      <td>25</td>\n      <td>100</td>\n    </tr>\n    <tr>\n      <th>A6_location</th>\n      <td>Al_Jaeazah</td>\n      <td>0</td>\n      <td>0.000000</td>\n      <td>6</td>\n      <td>100.000000</td>\n      <td>0</td>\n      <td>0.000000</td>\n      <td>0</td>\n      <td>0.000000</td>\n      <td>0</td>\n      <td>...</td>\n      <td>0</td>\n      <td>0.000000</td>\n      <td>0</td>\n      <td>0.000000</td>\n      <td>0</td>\n      <td>0.000000</td>\n      <td>0</td>\n      <td>0.000000</td>\n      <td>6</td>\n      <td>100</td>\n    </tr>\n    <tr>\n      <th>A6_location</th>\n      <td>Al_Masql</td>\n      <td>0</td>\n      <td>0.000000</td>\n      <td>5</td>\n      <td>100.000000</td>\n      <td>0</td>\n      <td>0.000000</td>\n      <td>0</td>\n      <td>0.000000</td>\n      <td>0</td>\n      <td>...</td>\n      <td>0</td>\n      <td>0.000000</td>\n      <td>0</td>\n      <td>0.000000</td>\n      <td>0</td>\n      <td>0.000000</td>\n      <td>0</td>\n      <td>0.000000</td>\n      <td>5</td>\n      <td>100</td>\n    </tr>\n    <tr>\n      <th>A6_location</th>\n      <td>Al_Mosa</td>\n      <td>1</td>\n      <td>20.000000</td>\n      <td>2</td>\n      <td>40.000000</td>\n      <td>0</td>\n      <td>0.000000</td>\n      <td>0</td>\n      <td>0.000000</td>\n      <td>0</td>\n      <td>...</td>\n      <td>2</td>\n      <td>40.000000</td>\n      <td>0</td>\n      <td>0.000000</td>\n      <td>0</td>\n      <td>0.000000</td>\n      <td>0</td>\n      <td>0.000000</td>\n      <td>5</td>\n      <td>100</td>\n    </tr>\n    <tr>\n      <th>A6_location</th>\n      <td>Al_Qarah_Al_Jabelah_Al_Dharfi</td>\n      <td>0</td>\n      <td>0.000000</td>\n      <td>5</td>\n      <td>100.000000</td>\n      <td>0</td>\n      <td>0.000000</td>\n      <td>0</td>\n      <td>0.000000</td>\n      <td>0</td>\n      <td>...</td>\n      <td>0</td>\n      <td>0.000000</td>\n      <td>0</td>\n      <td>0.000000</td>\n      <td>0</td>\n      <td>0.000000</td>\n      <td>0</td>\n      <td>0.000000</td>\n      <td>5</td>\n      <td>100</td>\n    </tr>\n    <tr>\n      <th>A6_location</th>\n      <td>Al_Sheri</td>\n      <td>0</td>\n      <td>0.000000</td>\n      <td>0</td>\n      <td>0.000000</td>\n      <td>0</td>\n      <td>0.000000</td>\n      <td>0</td>\n      <td>0.000000</td>\n      <td>0</td>\n      <td>...</td>\n      <td>5</td>\n      <td>100.000000</td>\n      <td>0</td>\n      <td>0.000000</td>\n      <td>0</td>\n      <td>0.000000</td>\n      <td>0</td>\n      <td>0.000000</td>\n      <td>5</td>\n      <td>100</td>\n    </tr>\n    <tr>\n      <th>A6_location</th>\n      <td>Al_Thelah</td>\n      <td>0</td>\n      <td>0.000000</td>\n      <td>9</td>\n      <td>100.000000</td>\n      <td>0</td>\n      <td>0.000000</td>\n      <td>0</td>\n      <td>0.000000</td>\n      <td>0</td>\n      <td>...</td>\n      <td>0</td>\n      <td>0.000000</td>\n      <td>0</td>\n      <td>0.000000</td>\n      <td>0</td>\n      <td>0.000000</td>\n      <td>0</td>\n      <td>0.000000</td>\n      <td>9</td>\n      <td>100</td>\n    </tr>\n    <tr>\n      <th>A6_location</th>\n      <td>Haid_Lathom</td>\n      <td>2</td>\n      <td>15.384615</td>\n      <td>11</td>\n      <td>84.615385</td>\n      <td>0</td>\n      <td>0.000000</td>\n      <td>0</td>\n      <td>0.000000</td>\n      <td>0</td>\n      <td>...</td>\n      <td>0</td>\n      <td>0.000000</td>\n      <td>0</td>\n      <td>0.000000</td>\n      <td>0</td>\n      <td>0.000000</td>\n      <td>0</td>\n      <td>0.000000</td>\n      <td>13</td>\n      <td>100</td>\n    </tr>\n    <tr>\n      <th>A6_location</th>\n      <td>Homr</td>\n      <td>0</td>\n      <td>0.000000</td>\n      <td>7</td>\n      <td>87.500000</td>\n      <td>0</td>\n      <td>0.000000</td>\n      <td>0</td>\n      <td>0.000000</td>\n      <td>0</td>\n      <td>...</td>\n      <td>1</td>\n      <td>12.500000</td>\n      <td>0</td>\n      <td>0.000000</td>\n      <td>0</td>\n      <td>0.000000</td>\n      <td>0</td>\n      <td>0.000000</td>\n      <td>8</td>\n      <td>100</td>\n    </tr>\n    <tr>\n      <th>A6_location</th>\n      <td>Jahor_Lali</td>\n      <td>0</td>\n      <td>0.000000</td>\n      <td>10</td>\n      <td>100.000000</td>\n      <td>0</td>\n      <td>0.000000</td>\n      <td>0</td>\n      <td>0.000000</td>\n      <td>0</td>\n      <td>...</td>\n      <td>0</td>\n      <td>0.000000</td>\n      <td>0</td>\n      <td>0.000000</td>\n      <td>0</td>\n      <td>0.000000</td>\n      <td>0</td>\n      <td>0.000000</td>\n      <td>10</td>\n      <td>100</td>\n    </tr>\n    <tr>\n      <th>A6_location</th>\n      <td>Khla_Lali</td>\n      <td>0</td>\n      <td>0.000000</td>\n      <td>15</td>\n      <td>100.000000</td>\n      <td>0</td>\n      <td>0.000000</td>\n      <td>0</td>\n      <td>0.000000</td>\n      <td>0</td>\n      <td>...</td>\n      <td>0</td>\n      <td>0.000000</td>\n      <td>0</td>\n      <td>0.000000</td>\n      <td>0</td>\n      <td>0.000000</td>\n      <td>0</td>\n      <td>0.000000</td>\n      <td>15</td>\n      <td>100</td>\n    </tr>\n    <tr>\n      <th>A6_location</th>\n      <td>Kinad</td>\n      <td>0</td>\n      <td>0.000000</td>\n      <td>12</td>\n      <td>100.000000</td>\n      <td>0</td>\n      <td>0.000000</td>\n      <td>0</td>\n      <td>0.000000</td>\n      <td>0</td>\n      <td>...</td>\n      <td>0</td>\n      <td>0.000000</td>\n      <td>0</td>\n      <td>0.000000</td>\n      <td>0</td>\n      <td>0.000000</td>\n      <td>0</td>\n      <td>0.000000</td>\n      <td>12</td>\n      <td>100</td>\n    </tr>\n    <tr>\n      <th>A6_location</th>\n      <td>Saman_</td>\n      <td>0</td>\n      <td>0.000000</td>\n      <td>0</td>\n      <td>0.000000</td>\n      <td>0</td>\n      <td>0.000000</td>\n      <td>0</td>\n      <td>0.000000</td>\n      <td>12</td>\n      <td>...</td>\n      <td>0</td>\n      <td>0.000000</td>\n      <td>0</td>\n      <td>0.000000</td>\n      <td>0</td>\n      <td>0.000000</td>\n      <td>0</td>\n      <td>0.000000</td>\n      <td>12</td>\n      <td>100</td>\n    </tr>\n  </tbody>\n</table>\n<p>20 rows × 21 columns</p>\n</div>"
     },
     "execution_count": 11,
     "metadata": {},
     "output_type": "execute_result"
    }
   ],
   "source": [
    "total = compute_count_percent(df, \"C1_main_water_source\")\n",
    "df_output = compute_count_percent_with_grouping(df, 'C1_main_water_source', ['A5_characteristic', 'A6_location'])\n",
    "\n",
    "# Concatenate the outputs\n",
    "final_output = pd.concat([total, df_output])\n",
    "\n",
    "final_output"
   ],
   "metadata": {
    "collapsed": false
   }
  },
  {
   "cell_type": "code",
   "execution_count": 9,
   "outputs": [
    {
     "data": {
      "text/plain": "A6_location                    C1_main_water_source                                             \nAl_Al_Dheeb                    Rainwater_collection                                                  2\n                               Surface_water_river_dam_lake_pond_stream_canal_irrigation_channel     1\nAl_Alio                        Rainwater_collection                                                  4\nAl_Greshfah                    Rainwater_collection                                                  9\nAl_Hajeb                       Rainwater_collection                                                 18\nAl_Jabelah                     Rainwater_collection                                                 25\nAl_Jaeazah                     Rainwater_collection                                                  6\nAl_Masql                       Rainwater_collection                                                  5\nAl_Mosa                        Rainwater_collection                                                  2\n                               Surface_water_river_dam_lake_pond_stream_canal_irrigation_channel     2\n                               Water_trucking                                                        1\nAl_Qarah_Al_Jabelah_Al_Dharfi  Rainwater_collection                                                  5\nAl_Sheri                       Surface_water_river_dam_lake_pond_stream_canal_irrigation_channel     5\nAl_Thelah                      Rainwater_collection                                                  9\nHaid_Lathom                    Rainwater_collection                                                 11\n                               Water_trucking                                                        2\nHomr                           Rainwater_collection                                                  7\n                               Surface_water_river_dam_lake_pond_stream_canal_irrigation_channel     1\nJahor_Lali                     Rainwater_collection                                                 10\nKhla_Lali                      Rainwater_collection                                                 15\nKinad                          Rainwater_collection                                                 12\nSaman_                         Protected_well_                                                      12\nName: C1_main_water_source, dtype: int64"
     },
     "execution_count": 9,
     "metadata": {},
     "output_type": "execute_result"
    }
   ],
   "source": [
    "df.groupby('A6_location')['C1_main_water_source'].value_counts()"
   ],
   "metadata": {
    "collapsed": false
   }
  },
  {
   "cell_type": "code",
   "execution_count": null,
   "outputs": [],
   "source": [
    "sum(final_output['Total count'].iloc[3:])"
   ],
   "metadata": {
    "collapsed": false
   }
  },
  {
   "cell_type": "code",
   "execution_count": null,
   "outputs": [],
   "source": [],
   "metadata": {
    "collapsed": false
   }
  }
 ],
 "metadata": {
  "kernelspec": {
   "display_name": "Python 3",
   "language": "python",
   "name": "python3"
  },
  "language_info": {
   "codemirror_mode": {
    "name": "ipython",
    "version": 2
   },
   "file_extension": ".py",
   "mimetype": "text/x-python",
   "name": "python",
   "nbconvert_exporter": "python",
   "pygments_lexer": "ipython2",
   "version": "2.7.6"
  }
 },
 "nbformat": 4,
 "nbformat_minor": 0
}
