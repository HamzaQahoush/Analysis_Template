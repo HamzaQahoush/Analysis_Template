{
 "cells": [
  {
   "cell_type": "code",
   "execution_count": 2,
   "metadata": {
    "collapsed": true
   },
   "outputs": [],
   "source": [
    "import pandas as pd"
   ]
  },
  {
   "cell_type": "code",
   "execution_count": 63,
   "outputs": [],
   "source": [
    "from Scripts.util import (\n",
    "    replace_slash,\n",
    "    clean_analysis_sheet\n",
    ")"
   ],
   "metadata": {
    "collapsed": false
   }
  },
  {
   "cell_type": "code",
   "execution_count": 64,
   "outputs": [],
   "source": [
    "df = pd.read_excel('../inputs/YEM2203_HH_SBA_-_all_versions_-_False_-_2023-03-23-05-31-45.xlsx')\n",
    "tool = pd.read_excel('../inputs/YEM2203_HH_survey_tool_SBA_01252023.xlsx')\n",
    "df.columns = [replace_slash(col) for col in df.columns]\n"
   ],
   "metadata": {
    "collapsed": false
   }
  },
  {
   "cell_type": "code",
   "execution_count": 65,
   "outputs": [
    {
     "data": {
      "text/plain": "                      start                     end      today  \\\n0   2023-03-15 16:27:20.498 2023-03-15 17:22:45.213 2023-03-15   \n1   2023-03-15 11:59:25.935 2023-03-15 12:21:10.798 2023-03-15   \n2   2023-03-15 16:26:11.317 2023-03-15 17:42:14.595 2023-03-15   \n3   2023-03-15 17:35:58.243 2023-03-15 18:27:23.575 2023-03-15   \n4   2023-03-15 12:19:38.177 2023-03-15 17:33:11.230 2023-03-15   \n..                      ...                     ...        ...   \n361 2023-03-22 09:25:22.304 2023-03-22 09:41:31.878 2023-03-22   \n362 2023-03-22 09:41:52.043 2023-03-22 10:15:04.523 2023-03-22   \n363 2023-03-22 09:04:28.785 2023-03-22 18:38:06.738 2023-03-22   \n364 2023-03-22 09:20:00.142 2023-03-22 18:38:19.182 2023-03-22   \n365 2023-03-22 09:32:32.293 2023-03-22 18:38:12.599 2023-03-22   \n\n                     deviceid                      imei      audit  \\\n0    collect:keYzjicWXARRflyk  collect:keYzjicWXARRflyk  audit.csv   \n1    collect:muHPxfpn0pPXCjhp  collect:muHPxfpn0pPXCjhp  audit.csv   \n2    collect:muHPxfpn0pPXCjhp  collect:muHPxfpn0pPXCjhp  audit.csv   \n3    collect:keYzjicWXARRflyk  collect:keYzjicWXARRflyk  audit.csv   \n4    collect:SOVgofSMqlCwQUJM  collect:SOVgofSMqlCwQUJM  audit.csv   \n..                        ...                       ...        ...   \n361  collect:aMCVAuDFtJG5sEIZ  collect:aMCVAuDFtJG5sEIZ  audit.csv   \n362  collect:aMCVAuDFtJG5sEIZ  collect:aMCVAuDFtJG5sEIZ  audit.csv   \n363            A1000061F45A40            A1000061F45A40  audit.csv   \n364            A1000061F45A40            A1000061F45A40  audit.csv   \n365            A1000061F45A40            A1000061F45A40  audit.csv   \n\n                                             audit_URL A1_interview_date  \\\n0    https://kc.humanitarianresponse.info/media/ori...        2023-03-15   \n1    https://kc.humanitarianresponse.info/media/ori...        2023-03-15   \n2    https://kc.humanitarianresponse.info/media/ori...        2023-03-15   \n3    https://kc.humanitarianresponse.info/media/ori...        2023-03-15   \n4    https://kc.humanitarianresponse.info/media/ori...        2023-03-15   \n..                                                 ...               ...   \n361  https://kc.humanitarianresponse.info/media/ori...        2023-03-22   \n362  https://kc.humanitarianresponse.info/media/ori...        2023-03-22   \n363  https://kc.humanitarianresponse.info/media/ori...        2023-03-22   \n364  https://kc.humanitarianresponse.info/media/ori...        2023-03-22   \n365  https://kc.humanitarianresponse.info/media/ori...        2023-03-22   \n\n    A2_enumerator_id A3_governorate  ...        _id  \\\n0              YEM14           Lahj  ...  404829934   \n1              YEM05           Lahj  ...  404832171   \n2              YEM16           Lahj  ...  404835585   \n3              YEM14           Lahj  ...  404871612   \n4              YEM15           Lahj  ...  404886172   \n..               ...            ...  ...        ...   \n361            YEM08           Lahj  ...  407422558   \n362            YEM08           Lahj  ...  407422594   \n363            YEM02           Lahj  ...  407489361   \n364            YEM02           Lahj  ...  407489391   \n365            YEM02           Lahj  ...  407489426   \n\n                                    _uuid    _submission_time  \\\n0    cb67906e-2282-404f-a427-e42c1a7f298e 2023-03-15 14:31:37   \n1    b47abd84-f3d0-4d50-9979-c480cd264502 2023-03-15 14:35:20   \n2    032ca6bb-03da-4acc-8f5b-94da695211fe 2023-03-15 14:42:28   \n3    d20c5bd1-6c61-4aae-b84a-114f173b7022 2023-03-15 15:57:53   \n4    a342ecc8-75e2-4f02-a853-9b7186b7bb84 2023-03-15 16:29:19   \n..                                    ...                 ...   \n361  ca3714da-535a-4f2f-b1c2-e5dba354505d 2023-03-22 13:41:19   \n362  8dd6e844-f767-442a-a279-d70c42ce35e9 2023-03-22 13:41:22   \n363  798880aa-fb8e-4d79-a4b3-302644732dfc 2023-03-22 15:45:08   \n364  ca91857d-c3f3-46d7-81bd-64e145c19723 2023-03-22 15:45:10   \n365  08f39168-b7b0-40f5-872c-2cc9f03850cc 2023-03-22 15:45:14   \n\n    _validation_status _notes            _status _submitted_by  \\\n0                  NaN    NaN  submitted_via_web    yemen_part   \n1                  NaN    NaN  submitted_via_web    yemen_part   \n2                  NaN    NaN  submitted_via_web    yemen_part   \n3                  NaN    NaN  submitted_via_web    yemen_part   \n4                  NaN    NaN  submitted_via_web    yemen_part   \n..                 ...    ...                ...           ...   \n361                NaN    NaN  submitted_via_web    yemen_part   \n362                NaN    NaN  submitted_via_web    yemen_part   \n363                NaN    NaN  submitted_via_web    yemen_part   \n364                NaN    NaN  submitted_via_web    yemen_part   \n365                NaN    NaN  submitted_via_web    yemen_part   \n\n                __version__ _tags  _index  \n0    v4BgNNA6KxTJFj8iCxGbgK   NaN       1  \n1    v72PYMXw9qPiUNXmVFdpru   NaN       2  \n2    v4BgNNA6KxTJFj8iCxGbgK   NaN       3  \n3    v4BgNNA6KxTJFj8iCxGbgK   NaN       4  \n4    v72PYMXw9qPiUNXmVFdpru   NaN       5  \n..                      ...   ...     ...  \n361  vDEuq4YmJQwqEuTEFDnoBw   NaN     362  \n362  vDEuq4YmJQwqEuTEFDnoBw   NaN     363  \n363  vDEuq4YmJQwqEuTEFDnoBw   NaN     364  \n364  vDEuq4YmJQwqEuTEFDnoBw   NaN     365  \n365  vDEuq4YmJQwqEuTEFDnoBw   NaN     366  \n\n[366 rows x 511 columns]",
      "text/html": "<div>\n<style scoped>\n    .dataframe tbody tr th:only-of-type {\n        vertical-align: middle;\n    }\n\n    .dataframe tbody tr th {\n        vertical-align: top;\n    }\n\n    .dataframe thead th {\n        text-align: right;\n    }\n</style>\n<table border=\"1\" class=\"dataframe\">\n  <thead>\n    <tr style=\"text-align: right;\">\n      <th></th>\n      <th>start</th>\n      <th>end</th>\n      <th>today</th>\n      <th>deviceid</th>\n      <th>imei</th>\n      <th>audit</th>\n      <th>audit_URL</th>\n      <th>A1_interview_date</th>\n      <th>A2_enumerator_id</th>\n      <th>A3_governorate</th>\n      <th>...</th>\n      <th>_id</th>\n      <th>_uuid</th>\n      <th>_submission_time</th>\n      <th>_validation_status</th>\n      <th>_notes</th>\n      <th>_status</th>\n      <th>_submitted_by</th>\n      <th>__version__</th>\n      <th>_tags</th>\n      <th>_index</th>\n    </tr>\n  </thead>\n  <tbody>\n    <tr>\n      <th>0</th>\n      <td>2023-03-15 16:27:20.498</td>\n      <td>2023-03-15 17:22:45.213</td>\n      <td>2023-03-15</td>\n      <td>collect:keYzjicWXARRflyk</td>\n      <td>collect:keYzjicWXARRflyk</td>\n      <td>audit.csv</td>\n      <td>https://kc.humanitarianresponse.info/media/ori...</td>\n      <td>2023-03-15</td>\n      <td>YEM14</td>\n      <td>Lahj</td>\n      <td>...</td>\n      <td>404829934</td>\n      <td>cb67906e-2282-404f-a427-e42c1a7f298e</td>\n      <td>2023-03-15 14:31:37</td>\n      <td>NaN</td>\n      <td>NaN</td>\n      <td>submitted_via_web</td>\n      <td>yemen_part</td>\n      <td>v4BgNNA6KxTJFj8iCxGbgK</td>\n      <td>NaN</td>\n      <td>1</td>\n    </tr>\n    <tr>\n      <th>1</th>\n      <td>2023-03-15 11:59:25.935</td>\n      <td>2023-03-15 12:21:10.798</td>\n      <td>2023-03-15</td>\n      <td>collect:muHPxfpn0pPXCjhp</td>\n      <td>collect:muHPxfpn0pPXCjhp</td>\n      <td>audit.csv</td>\n      <td>https://kc.humanitarianresponse.info/media/ori...</td>\n      <td>2023-03-15</td>\n      <td>YEM05</td>\n      <td>Lahj</td>\n      <td>...</td>\n      <td>404832171</td>\n      <td>b47abd84-f3d0-4d50-9979-c480cd264502</td>\n      <td>2023-03-15 14:35:20</td>\n      <td>NaN</td>\n      <td>NaN</td>\n      <td>submitted_via_web</td>\n      <td>yemen_part</td>\n      <td>v72PYMXw9qPiUNXmVFdpru</td>\n      <td>NaN</td>\n      <td>2</td>\n    </tr>\n    <tr>\n      <th>2</th>\n      <td>2023-03-15 16:26:11.317</td>\n      <td>2023-03-15 17:42:14.595</td>\n      <td>2023-03-15</td>\n      <td>collect:muHPxfpn0pPXCjhp</td>\n      <td>collect:muHPxfpn0pPXCjhp</td>\n      <td>audit.csv</td>\n      <td>https://kc.humanitarianresponse.info/media/ori...</td>\n      <td>2023-03-15</td>\n      <td>YEM16</td>\n      <td>Lahj</td>\n      <td>...</td>\n      <td>404835585</td>\n      <td>032ca6bb-03da-4acc-8f5b-94da695211fe</td>\n      <td>2023-03-15 14:42:28</td>\n      <td>NaN</td>\n      <td>NaN</td>\n      <td>submitted_via_web</td>\n      <td>yemen_part</td>\n      <td>v4BgNNA6KxTJFj8iCxGbgK</td>\n      <td>NaN</td>\n      <td>3</td>\n    </tr>\n    <tr>\n      <th>3</th>\n      <td>2023-03-15 17:35:58.243</td>\n      <td>2023-03-15 18:27:23.575</td>\n      <td>2023-03-15</td>\n      <td>collect:keYzjicWXARRflyk</td>\n      <td>collect:keYzjicWXARRflyk</td>\n      <td>audit.csv</td>\n      <td>https://kc.humanitarianresponse.info/media/ori...</td>\n      <td>2023-03-15</td>\n      <td>YEM14</td>\n      <td>Lahj</td>\n      <td>...</td>\n      <td>404871612</td>\n      <td>d20c5bd1-6c61-4aae-b84a-114f173b7022</td>\n      <td>2023-03-15 15:57:53</td>\n      <td>NaN</td>\n      <td>NaN</td>\n      <td>submitted_via_web</td>\n      <td>yemen_part</td>\n      <td>v4BgNNA6KxTJFj8iCxGbgK</td>\n      <td>NaN</td>\n      <td>4</td>\n    </tr>\n    <tr>\n      <th>4</th>\n      <td>2023-03-15 12:19:38.177</td>\n      <td>2023-03-15 17:33:11.230</td>\n      <td>2023-03-15</td>\n      <td>collect:SOVgofSMqlCwQUJM</td>\n      <td>collect:SOVgofSMqlCwQUJM</td>\n      <td>audit.csv</td>\n      <td>https://kc.humanitarianresponse.info/media/ori...</td>\n      <td>2023-03-15</td>\n      <td>YEM15</td>\n      <td>Lahj</td>\n      <td>...</td>\n      <td>404886172</td>\n      <td>a342ecc8-75e2-4f02-a853-9b7186b7bb84</td>\n      <td>2023-03-15 16:29:19</td>\n      <td>NaN</td>\n      <td>NaN</td>\n      <td>submitted_via_web</td>\n      <td>yemen_part</td>\n      <td>v72PYMXw9qPiUNXmVFdpru</td>\n      <td>NaN</td>\n      <td>5</td>\n    </tr>\n    <tr>\n      <th>...</th>\n      <td>...</td>\n      <td>...</td>\n      <td>...</td>\n      <td>...</td>\n      <td>...</td>\n      <td>...</td>\n      <td>...</td>\n      <td>...</td>\n      <td>...</td>\n      <td>...</td>\n      <td>...</td>\n      <td>...</td>\n      <td>...</td>\n      <td>...</td>\n      <td>...</td>\n      <td>...</td>\n      <td>...</td>\n      <td>...</td>\n      <td>...</td>\n      <td>...</td>\n      <td>...</td>\n    </tr>\n    <tr>\n      <th>361</th>\n      <td>2023-03-22 09:25:22.304</td>\n      <td>2023-03-22 09:41:31.878</td>\n      <td>2023-03-22</td>\n      <td>collect:aMCVAuDFtJG5sEIZ</td>\n      <td>collect:aMCVAuDFtJG5sEIZ</td>\n      <td>audit.csv</td>\n      <td>https://kc.humanitarianresponse.info/media/ori...</td>\n      <td>2023-03-22</td>\n      <td>YEM08</td>\n      <td>Lahj</td>\n      <td>...</td>\n      <td>407422558</td>\n      <td>ca3714da-535a-4f2f-b1c2-e5dba354505d</td>\n      <td>2023-03-22 13:41:19</td>\n      <td>NaN</td>\n      <td>NaN</td>\n      <td>submitted_via_web</td>\n      <td>yemen_part</td>\n      <td>vDEuq4YmJQwqEuTEFDnoBw</td>\n      <td>NaN</td>\n      <td>362</td>\n    </tr>\n    <tr>\n      <th>362</th>\n      <td>2023-03-22 09:41:52.043</td>\n      <td>2023-03-22 10:15:04.523</td>\n      <td>2023-03-22</td>\n      <td>collect:aMCVAuDFtJG5sEIZ</td>\n      <td>collect:aMCVAuDFtJG5sEIZ</td>\n      <td>audit.csv</td>\n      <td>https://kc.humanitarianresponse.info/media/ori...</td>\n      <td>2023-03-22</td>\n      <td>YEM08</td>\n      <td>Lahj</td>\n      <td>...</td>\n      <td>407422594</td>\n      <td>8dd6e844-f767-442a-a279-d70c42ce35e9</td>\n      <td>2023-03-22 13:41:22</td>\n      <td>NaN</td>\n      <td>NaN</td>\n      <td>submitted_via_web</td>\n      <td>yemen_part</td>\n      <td>vDEuq4YmJQwqEuTEFDnoBw</td>\n      <td>NaN</td>\n      <td>363</td>\n    </tr>\n    <tr>\n      <th>363</th>\n      <td>2023-03-22 09:04:28.785</td>\n      <td>2023-03-22 18:38:06.738</td>\n      <td>2023-03-22</td>\n      <td>A1000061F45A40</td>\n      <td>A1000061F45A40</td>\n      <td>audit.csv</td>\n      <td>https://kc.humanitarianresponse.info/media/ori...</td>\n      <td>2023-03-22</td>\n      <td>YEM02</td>\n      <td>Lahj</td>\n      <td>...</td>\n      <td>407489361</td>\n      <td>798880aa-fb8e-4d79-a4b3-302644732dfc</td>\n      <td>2023-03-22 15:45:08</td>\n      <td>NaN</td>\n      <td>NaN</td>\n      <td>submitted_via_web</td>\n      <td>yemen_part</td>\n      <td>vDEuq4YmJQwqEuTEFDnoBw</td>\n      <td>NaN</td>\n      <td>364</td>\n    </tr>\n    <tr>\n      <th>364</th>\n      <td>2023-03-22 09:20:00.142</td>\n      <td>2023-03-22 18:38:19.182</td>\n      <td>2023-03-22</td>\n      <td>A1000061F45A40</td>\n      <td>A1000061F45A40</td>\n      <td>audit.csv</td>\n      <td>https://kc.humanitarianresponse.info/media/ori...</td>\n      <td>2023-03-22</td>\n      <td>YEM02</td>\n      <td>Lahj</td>\n      <td>...</td>\n      <td>407489391</td>\n      <td>ca91857d-c3f3-46d7-81bd-64e145c19723</td>\n      <td>2023-03-22 15:45:10</td>\n      <td>NaN</td>\n      <td>NaN</td>\n      <td>submitted_via_web</td>\n      <td>yemen_part</td>\n      <td>vDEuq4YmJQwqEuTEFDnoBw</td>\n      <td>NaN</td>\n      <td>365</td>\n    </tr>\n    <tr>\n      <th>365</th>\n      <td>2023-03-22 09:32:32.293</td>\n      <td>2023-03-22 18:38:12.599</td>\n      <td>2023-03-22</td>\n      <td>A1000061F45A40</td>\n      <td>A1000061F45A40</td>\n      <td>audit.csv</td>\n      <td>https://kc.humanitarianresponse.info/media/ori...</td>\n      <td>2023-03-22</td>\n      <td>YEM02</td>\n      <td>Lahj</td>\n      <td>...</td>\n      <td>407489426</td>\n      <td>08f39168-b7b0-40f5-872c-2cc9f03850cc</td>\n      <td>2023-03-22 15:45:14</td>\n      <td>NaN</td>\n      <td>NaN</td>\n      <td>submitted_via_web</td>\n      <td>yemen_part</td>\n      <td>vDEuq4YmJQwqEuTEFDnoBw</td>\n      <td>NaN</td>\n      <td>366</td>\n    </tr>\n  </tbody>\n</table>\n<p>366 rows × 511 columns</p>\n</div>"
     },
     "execution_count": 65,
     "metadata": {},
     "output_type": "execute_result"
    }
   ],
   "source": [
    "df"
   ],
   "metadata": {
    "collapsed": false
   }
  },
  {
   "cell_type": "code",
   "execution_count": 63,
   "outputs": [
    {
     "data": {
      "text/plain": "Water_trucking                                                       0.421918\nRainwater_collection                                                 0.386301\nTanker_truck                                                         0.060274\nPiped_into_dwelling                                                  0.043836\nProtected_well_                                                      0.032877\nSurface_water_river_dam_lake_pond_stream_canal_irrigation_channel    0.030137\nCart_with_small_tank_drum                                            0.010959\nWater_kiosk                                                          0.010959\nProtected_spring                                                     0.002740\nName: C1_main_water_source, dtype: float64"
     },
     "execution_count": 63,
     "metadata": {},
     "output_type": "execute_result"
    }
   ],
   "source": [
    "df['C1_main_water_source'].value_counts(normalize=True)"
   ],
   "metadata": {
    "collapsed": false
   }
  },
  {
   "cell_type": "code",
   "execution_count": null,
   "outputs": [],
   "source": [
    "grouped = df.groupby(['A5_characteristic', 'C1_main_water_source']).size().unstack(fill_value=0)\n",
    "grouped"
   ],
   "metadata": {
    "collapsed": false
   }
  },
  {
   "cell_type": "code",
   "execution_count": 68,
   "outputs": [
    {
     "data": {
      "text/plain": "         Water_trucking count  Water_trucking %  Rainwater_collection count  \\\nTotal                     154         42.076503                         141   \n\n       Rainwater_collection %  Tanker_truck count  Tanker_truck %  \\\nTotal                38.52459                  22        6.010929   \n\n       Piped_into_dwelling count  Piped_into_dwelling %  \\\nTotal                         16               4.371585   \n\n       Protected_well_ count  ...  \\\nTotal                     12  ...   \n\n       Surface_water_river_dam_lake_pond_stream_canal_irrigation_channel count  \\\nTotal                                                 11                         \n\n       Surface_water_river_dam_lake_pond_stream_canal_irrigation_channel %  \\\nTotal                                           3.005464                     \n\n       Cart_with_small_tank_drum count  Cart_with_small_tank_drum %  \\\nTotal                                4                     1.092896   \n\n       Water_kiosk count  Water_kiosk %  Protected_spring count  \\\nTotal                  4       1.092896                       1   \n\n       Protected_spring %  Total count  Total %  \nTotal            0.273224          366      100  \n\n[1 rows x 21 columns]",
      "text/html": "<div>\n<style scoped>\n    .dataframe tbody tr th:only-of-type {\n        vertical-align: middle;\n    }\n\n    .dataframe tbody tr th {\n        vertical-align: top;\n    }\n\n    .dataframe thead th {\n        text-align: right;\n    }\n</style>\n<table border=\"1\" class=\"dataframe\">\n  <thead>\n    <tr style=\"text-align: right;\">\n      <th></th>\n      <th></th>\n      <th>Water_trucking count</th>\n      <th>Water_trucking %</th>\n      <th>Rainwater_collection count</th>\n      <th>Rainwater_collection %</th>\n      <th>Tanker_truck count</th>\n      <th>Tanker_truck %</th>\n      <th>Piped_into_dwelling count</th>\n      <th>Piped_into_dwelling %</th>\n      <th>Protected_well_ count</th>\n      <th>...</th>\n      <th>Surface_water_river_dam_lake_pond_stream_canal_irrigation_channel count</th>\n      <th>Surface_water_river_dam_lake_pond_stream_canal_irrigation_channel %</th>\n      <th>Cart_with_small_tank_drum count</th>\n      <th>Cart_with_small_tank_drum %</th>\n      <th>Water_kiosk count</th>\n      <th>Water_kiosk %</th>\n      <th>Protected_spring count</th>\n      <th>Protected_spring %</th>\n      <th>Total count</th>\n      <th>Total %</th>\n    </tr>\n  </thead>\n  <tbody>\n    <tr>\n      <th>Total</th>\n      <td></td>\n      <td>154</td>\n      <td>42.076503</td>\n      <td>141</td>\n      <td>38.52459</td>\n      <td>22</td>\n      <td>6.010929</td>\n      <td>16</td>\n      <td>4.371585</td>\n      <td>12</td>\n      <td>...</td>\n      <td>11</td>\n      <td>3.005464</td>\n      <td>4</td>\n      <td>1.092896</td>\n      <td>4</td>\n      <td>1.092896</td>\n      <td>1</td>\n      <td>0.273224</td>\n      <td>366</td>\n      <td>100</td>\n    </tr>\n  </tbody>\n</table>\n<p>1 rows × 21 columns</p>\n</div>"
     },
     "execution_count": 68,
     "metadata": {},
     "output_type": "execute_result"
    }
   ],
   "source": [
    "# #data = {\n",
    "#     'Question1': ['yes', 'no', 'yes', 'don’t know', 'yes', 'no', 'don’t know'],\n",
    "#     \"Area\": ['Area1', \"Area2\", \"Area1\", \"Area2\", \"Area1\", \"Area1\", \"Area2\"]\n",
    "# }\n",
    "#df = pd.DataFrame(data)\n",
    "\n",
    "def compute_count_percent(df, column_name):\n",
    "    # Get the value counts\n",
    "    counts = df[column_name].value_counts()\n",
    "\n",
    "    # Calculate the total number of responses\n",
    "    total = len(df[column_name])\n",
    "\n",
    "    # Calculate the percentage for each unique value\n",
    "    percentages = (counts / total) * 100\n",
    "\n",
    "    # Create the columns\n",
    "    output = pd.DataFrame()\n",
    "\n",
    "    # Add one empty column\n",
    "    output[''] = ['']\n",
    "\n",
    "\n",
    "    for answer in counts.index:\n",
    "        output[answer + ' count'] = [counts[answer]]\n",
    "        output[answer + ' %'] = [percentages[answer]]\n",
    "\n",
    "    # Add the 'Total' columns\n",
    "    output['Total count'] = [total]\n",
    "    output['Total %'] = [100]\n",
    "\n",
    "    # Rename the index value to 'Total'\n",
    "    output.index = ['Total']\n",
    "\n",
    "    return output\n",
    "\n",
    "total = compute_count_percent(df,\"C1_main_water_source\")\n",
    "total"
   ],
   "metadata": {
    "collapsed": false
   }
  },
  {
   "cell_type": "code",
   "execution_count": 14,
   "outputs": [
    {
     "data": {
      "text/plain": "Area   Question1 \nArea1  yes           3\n       no            1\nArea2  don’t know    2\n       no            1\ndtype: int64"
     },
     "execution_count": 14,
     "metadata": {},
     "output_type": "execute_result"
    }
   ],
   "source": [
    "df.groupby('Area').value_counts()"
   ],
   "metadata": {
    "collapsed": false
   }
  },
  {
   "cell_type": "code",
   "execution_count": 18,
   "outputs": [
    {
     "data": {
      "text/plain": "    Question1   Area\n0         yes  Area1\n1          no  Area2\n2         yes  Area1\n3  don’t know  Area2\n4         yes  Area1\n5          no  Area1\n6  don’t know  Area2",
      "text/html": "<div>\n<style scoped>\n    .dataframe tbody tr th:only-of-type {\n        vertical-align: middle;\n    }\n\n    .dataframe tbody tr th {\n        vertical-align: top;\n    }\n\n    .dataframe thead th {\n        text-align: right;\n    }\n</style>\n<table border=\"1\" class=\"dataframe\">\n  <thead>\n    <tr style=\"text-align: right;\">\n      <th></th>\n      <th>Question1</th>\n      <th>Area</th>\n    </tr>\n  </thead>\n  <tbody>\n    <tr>\n      <th>0</th>\n      <td>yes</td>\n      <td>Area1</td>\n    </tr>\n    <tr>\n      <th>1</th>\n      <td>no</td>\n      <td>Area2</td>\n    </tr>\n    <tr>\n      <th>2</th>\n      <td>yes</td>\n      <td>Area1</td>\n    </tr>\n    <tr>\n      <th>3</th>\n      <td>don’t know</td>\n      <td>Area2</td>\n    </tr>\n    <tr>\n      <th>4</th>\n      <td>yes</td>\n      <td>Area1</td>\n    </tr>\n    <tr>\n      <th>5</th>\n      <td>no</td>\n      <td>Area1</td>\n    </tr>\n    <tr>\n      <th>6</th>\n      <td>don’t know</td>\n      <td>Area2</td>\n    </tr>\n  </tbody>\n</table>\n</div>"
     },
     "execution_count": 18,
     "metadata": {},
     "output_type": "execute_result"
    }
   ],
   "source": [
    "df"
   ],
   "metadata": {
    "collapsed": false
   }
  },
  {
   "cell_type": "code",
   "execution_count": 26,
   "outputs": [
    {
     "data": {
      "text/plain": "2"
     },
     "execution_count": 26,
     "metadata": {},
     "output_type": "execute_result"
    }
   ],
   "source": [],
   "metadata": {
    "collapsed": false
   }
  },
  {
   "cell_type": "code",
   "execution_count": 45,
   "outputs": [
    {
     "name": "stderr",
     "output_type": "stream",
     "text": [
      "C:\\Users\\Reach\\AppData\\Local\\Temp\\ipykernel_20684\\1087562769.py:41: FutureWarning: The frame.append method is deprecated and will be removed from pandas in a future version. Use pandas.concat instead.\n",
      "  output = output.append(temp_df)\n",
      "C:\\Users\\Reach\\AppData\\Local\\Temp\\ipykernel_20684\\1087562769.py:41: FutureWarning: The frame.append method is deprecated and will be removed from pandas in a future version. Use pandas.concat instead.\n",
      "  output = output.append(temp_df)\n"
     ]
    },
    {
     "data": {
      "text/plain": "             yes count      yes %  no count       no %  don’t know count  \\\nTotal              3.0  42.857143         2  28.571429               2.0   \nArea1  Area        3.0  75.000000         1  25.000000               0.0   \nArea2  Area        0.0   0.000000         1  33.333333               2.0   \n\n       don’t know %  Total count  Total %  \nTotal     28.571429            7      100  \nArea1      0.000000            4      100  \nArea2     66.666667            3      100  ",
      "text/html": "<div>\n<style scoped>\n    .dataframe tbody tr th:only-of-type {\n        vertical-align: middle;\n    }\n\n    .dataframe tbody tr th {\n        vertical-align: top;\n    }\n\n    .dataframe thead th {\n        text-align: right;\n    }\n</style>\n<table border=\"1\" class=\"dataframe\">\n  <thead>\n    <tr style=\"text-align: right;\">\n      <th></th>\n      <th></th>\n      <th>yes count</th>\n      <th>yes %</th>\n      <th>no count</th>\n      <th>no %</th>\n      <th>don’t know count</th>\n      <th>don’t know %</th>\n      <th>Total count</th>\n      <th>Total %</th>\n    </tr>\n  </thead>\n  <tbody>\n    <tr>\n      <th>Total</th>\n      <td></td>\n      <td>3.0</td>\n      <td>42.857143</td>\n      <td>2</td>\n      <td>28.571429</td>\n      <td>2.0</td>\n      <td>28.571429</td>\n      <td>7</td>\n      <td>100</td>\n    </tr>\n    <tr>\n      <th>Area1</th>\n      <td>Area</td>\n      <td>3.0</td>\n      <td>75.000000</td>\n      <td>1</td>\n      <td>25.000000</td>\n      <td>0.0</td>\n      <td>0.000000</td>\n      <td>4</td>\n      <td>100</td>\n    </tr>\n    <tr>\n      <th>Area2</th>\n      <td>Area</td>\n      <td>0.0</td>\n      <td>0.000000</td>\n      <td>1</td>\n      <td>33.333333</td>\n      <td>2.0</td>\n      <td>66.666667</td>\n      <td>3</td>\n      <td>100</td>\n    </tr>\n  </tbody>\n</table>\n</div>"
     },
     "execution_count": 45,
     "metadata": {},
     "output_type": "execute_result"
    }
   ],
   "source": [],
   "metadata": {
    "collapsed": false
   }
  },
  {
   "cell_type": "code",
   "execution_count": 71,
   "outputs": [
    {
     "name": "stderr",
     "output_type": "stream",
     "text": [
      "C:\\Users\\Reach\\AppData\\Local\\Temp\\ipykernel_20684\\1494645710.py:43: FutureWarning: The frame.append method is deprecated and will be removed from pandas in a future version. Use pandas.concat instead.\n",
      "  output = output.append(temp_df)\n",
      "C:\\Users\\Reach\\AppData\\Local\\Temp\\ipykernel_20684\\1494645710.py:43: FutureWarning: The frame.append method is deprecated and will be removed from pandas in a future version. Use pandas.concat instead.\n",
      "  output = output.append(temp_df)\n"
     ]
    },
    {
     "data": {
      "text/plain": "                                      Rainwater_collection count  \\\nA5_characteristic    Rural_Al_Jiblah                         140   \nA5_characteristic  Urban_Al_Habelien                           1   \n\n                   Rainwater_collection %  Protected_well_ count  \\\nA5_characteristic               85.365854                   12.0   \nA5_characteristic                0.495050                    0.0   \n\n                   Protected_well_ %  \\\nA5_characteristic           7.317073   \nA5_characteristic           0.000000   \n\n                   Surface_water_river_dam_lake_pond_stream_canal_irrigation_channel count  \\\nA5_characteristic                                                  9                         \nA5_characteristic                                                  2                         \n\n                   Surface_water_river_dam_lake_pond_stream_canal_irrigation_channel %  \\\nA5_characteristic                                           5.487805                     \nA5_characteristic                                           0.990099                     \n\n                   Water_trucking count  Water_trucking %  Tanker_truck count  \\\nA5_characteristic                     3          1.829268                 0.0   \nA5_characteristic                   151         74.752475                22.0   \n\n                   ...  Piped_into_dwelling count  Piped_into_dwelling %  \\\nA5_characteristic  ...                        0.0               0.000000   \nA5_characteristic  ...                       16.0               7.920792   \n\n                   Cart_with_small_tank_drum count  \\\nA5_characteristic                              0.0   \nA5_characteristic                              4.0   \n\n                   Cart_with_small_tank_drum %  Water_kiosk count  \\\nA5_characteristic                     0.000000                0.0   \nA5_characteristic                     1.980198                4.0   \n\n                   Water_kiosk %  Protected_spring count  Protected_spring %  \\\nA5_characteristic       0.000000                     0.0             0.00000   \nA5_characteristic       1.980198                     1.0             0.49505   \n\n                   Total count  Total %  \nA5_characteristic          164      100  \nA5_characteristic          202      100  \n\n[2 rows x 21 columns]",
      "text/html": "<div>\n<style scoped>\n    .dataframe tbody tr th:only-of-type {\n        vertical-align: middle;\n    }\n\n    .dataframe tbody tr th {\n        vertical-align: top;\n    }\n\n    .dataframe thead th {\n        text-align: right;\n    }\n</style>\n<table border=\"1\" class=\"dataframe\">\n  <thead>\n    <tr style=\"text-align: right;\">\n      <th></th>\n      <th></th>\n      <th>Rainwater_collection count</th>\n      <th>Rainwater_collection %</th>\n      <th>Protected_well_ count</th>\n      <th>Protected_well_ %</th>\n      <th>Surface_water_river_dam_lake_pond_stream_canal_irrigation_channel count</th>\n      <th>Surface_water_river_dam_lake_pond_stream_canal_irrigation_channel %</th>\n      <th>Water_trucking count</th>\n      <th>Water_trucking %</th>\n      <th>Tanker_truck count</th>\n      <th>...</th>\n      <th>Piped_into_dwelling count</th>\n      <th>Piped_into_dwelling %</th>\n      <th>Cart_with_small_tank_drum count</th>\n      <th>Cart_with_small_tank_drum %</th>\n      <th>Water_kiosk count</th>\n      <th>Water_kiosk %</th>\n      <th>Protected_spring count</th>\n      <th>Protected_spring %</th>\n      <th>Total count</th>\n      <th>Total %</th>\n    </tr>\n  </thead>\n  <tbody>\n    <tr>\n      <th>A5_characteristic</th>\n      <td>Rural_Al_Jiblah</td>\n      <td>140</td>\n      <td>85.365854</td>\n      <td>12.0</td>\n      <td>7.317073</td>\n      <td>9</td>\n      <td>5.487805</td>\n      <td>3</td>\n      <td>1.829268</td>\n      <td>0.0</td>\n      <td>...</td>\n      <td>0.0</td>\n      <td>0.000000</td>\n      <td>0.0</td>\n      <td>0.000000</td>\n      <td>0.0</td>\n      <td>0.000000</td>\n      <td>0.0</td>\n      <td>0.00000</td>\n      <td>164</td>\n      <td>100</td>\n    </tr>\n    <tr>\n      <th>A5_characteristic</th>\n      <td>Urban_Al_Habelien</td>\n      <td>1</td>\n      <td>0.495050</td>\n      <td>0.0</td>\n      <td>0.000000</td>\n      <td>2</td>\n      <td>0.990099</td>\n      <td>151</td>\n      <td>74.752475</td>\n      <td>22.0</td>\n      <td>...</td>\n      <td>16.0</td>\n      <td>7.920792</td>\n      <td>4.0</td>\n      <td>1.980198</td>\n      <td>4.0</td>\n      <td>1.980198</td>\n      <td>1.0</td>\n      <td>0.49505</td>\n      <td>202</td>\n      <td>100</td>\n    </tr>\n  </tbody>\n</table>\n<p>2 rows × 21 columns</p>\n</div>"
     },
     "execution_count": 71,
     "metadata": {},
     "output_type": "execute_result"
    }
   ],
   "source": [
    "# import pandas as pd\n",
    "#\n",
    "# data = {\n",
    "#     'Question1': ['yes', 'no', 'yes', 'don’t know', 'yes', 'no', 'don’t know'],\n",
    "#     \"Area\": ['Area1', \"Area2\", \"Area1\", \"Area2\", \"Area1\", \"Area1\", \"Area2\"]\n",
    "# }\n",
    "# df = pd.DataFrame(data)\n",
    "\n",
    "def compute_count_percent_by_area(df, column_name, groupby_column):\n",
    "    grouped = df.groupby(groupby_column)\n",
    "\n",
    "    # Initialize an empty DataFrame for the final output\n",
    "    output = pd.DataFrame()\n",
    "\n",
    "    for name, group in grouped:\n",
    "        # Get the value counts for the group\n",
    "        counts = group[column_name].value_counts()\n",
    "\n",
    "        # Calculate the total number of responses for the group\n",
    "        total = len(group[column_name])\n",
    "\n",
    "        # Calculate the percentage for each unique value in the group\n",
    "        percentages = (counts / total) * 100\n",
    "\n",
    "        # Create a temporary DataFrame for the group\n",
    "        temp_df = pd.DataFrame()\n",
    "\n",
    "        # Insert the groupby_column value as the first column\n",
    "        temp_df[\"\"] = [name]\n",
    "\n",
    "        for answer in counts.index:\n",
    "            temp_df[answer + ' count'] = [counts[answer]]\n",
    "            temp_df[answer + ' %'] = [percentages[answer]]\n",
    "\n",
    "        # Add the 'Total' columns for the group\n",
    "        temp_df['Total count'] = [total]\n",
    "        temp_df['Total %'] = [100]\n",
    "\n",
    "        # Set the index value to the string groupby_column\n",
    "        temp_df.index = [groupby_column]\n",
    "\n",
    "        # Append the temporary DataFrame to the final output\n",
    "        output = output.append(temp_df)\n",
    "\n",
    "    # Reorder the columns to move 'Total count' and 'Total %' to the end\n",
    "    cols = [col for col in output if col not in ['Total count', 'Total %']] + ['Total count', 'Total %']\n",
    "\n",
    "    output = output[cols]\n",
    "    output = output.fillna(0)\n",
    "\n",
    "    return output\n",
    "\n",
    "df_output = compute_count_percent_by_area(df, 'C1_main_water_source', 'A5_characteristic')\n",
    "df_output\n"
   ],
   "metadata": {
    "collapsed": false
   }
  },
  {
   "cell_type": "code",
   "execution_count": 61,
   "outputs": [
    {
     "name": "stderr",
     "output_type": "stream",
     "text": [
      "C:\\Users\\Reach\\AppData\\Local\\Temp\\ipykernel_20684\\2635096897.py:43: FutureWarning: The frame.append method is deprecated and will be removed from pandas in a future version. Use pandas.concat instead.\n",
      "  output = output.append(temp_df)\n",
      "C:\\Users\\Reach\\AppData\\Local\\Temp\\ipykernel_20684\\2635096897.py:43: FutureWarning: The frame.append method is deprecated and will be removed from pandas in a future version. Use pandas.concat instead.\n",
      "  output = output.append(temp_df)\n"
     ]
    },
    {
     "data": {
      "text/plain": "              yes count      yes %  no count       no %  don’t know count  \\\nTotal               3.0  42.857143         2  28.571429               2.0   \nArea   Area1        3.0  75.000000         1  25.000000               0.0   \nArea   Area2        0.0   0.000000         1  33.333333               2.0   \n\n       don’t know %  Total count  Total %  \nTotal     28.571429            7      100  \nArea       0.000000            4      100  \nArea      66.666667            3      100  ",
      "text/html": "<div>\n<style scoped>\n    .dataframe tbody tr th:only-of-type {\n        vertical-align: middle;\n    }\n\n    .dataframe tbody tr th {\n        vertical-align: top;\n    }\n\n    .dataframe thead th {\n        text-align: right;\n    }\n</style>\n<table border=\"1\" class=\"dataframe\">\n  <thead>\n    <tr style=\"text-align: right;\">\n      <th></th>\n      <th></th>\n      <th>yes count</th>\n      <th>yes %</th>\n      <th>no count</th>\n      <th>no %</th>\n      <th>don’t know count</th>\n      <th>don’t know %</th>\n      <th>Total count</th>\n      <th>Total %</th>\n    </tr>\n  </thead>\n  <tbody>\n    <tr>\n      <th>Total</th>\n      <td></td>\n      <td>3.0</td>\n      <td>42.857143</td>\n      <td>2</td>\n      <td>28.571429</td>\n      <td>2.0</td>\n      <td>28.571429</td>\n      <td>7</td>\n      <td>100</td>\n    </tr>\n    <tr>\n      <th>Area</th>\n      <td>Area1</td>\n      <td>3.0</td>\n      <td>75.000000</td>\n      <td>1</td>\n      <td>25.000000</td>\n      <td>0.0</td>\n      <td>0.000000</td>\n      <td>4</td>\n      <td>100</td>\n    </tr>\n    <tr>\n      <th>Area</th>\n      <td>Area2</td>\n      <td>0.0</td>\n      <td>0.000000</td>\n      <td>1</td>\n      <td>33.333333</td>\n      <td>2.0</td>\n      <td>66.666667</td>\n      <td>3</td>\n      <td>100</td>\n    </tr>\n  </tbody>\n</table>\n</div>"
     },
     "execution_count": 61,
     "metadata": {},
     "output_type": "execute_result"
    }
   ],
   "source": [
    "\n",
    "total = compute_count_percent(df, \"Question1\")\n",
    "df_output = compute_count_percent_by_area(df, 'Question1', 'Area')\n",
    "\n",
    "# Concatenate the outputs\n",
    "final_output = pd.concat([total, df_output])\n",
    "\n",
    "final_output"
   ],
   "metadata": {
    "collapsed": false
   }
  },
  {
   "cell_type": "code",
   "execution_count": null,
   "outputs": [],
   "source": [],
   "metadata": {
    "collapsed": false
   }
  }
 ],
 "metadata": {
  "kernelspec": {
   "display_name": "Python 3",
   "language": "python",
   "name": "python3"
  },
  "language_info": {
   "codemirror_mode": {
    "name": "ipython",
    "version": 2
   },
   "file_extension": ".py",
   "mimetype": "text/x-python",
   "name": "python",
   "nbconvert_exporter": "python",
   "pygments_lexer": "ipython2",
   "version": "2.7.6"
  }
 },
 "nbformat": 4,
 "nbformat_minor": 0
}
